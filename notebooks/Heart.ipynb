{
 "cells": [
  {
   "cell_type": "code",
   "execution_count": 1,
   "metadata": {},
   "outputs": [],
   "source": [
    "import pandas as pd\n",
    "import numpy as np\n",
    "import seaborn as sn\n",
    "import matplotlib.pyplot as plt\n",
    "%matplotlib inline"
   ]
  },
  {
   "cell_type": "code",
   "execution_count": 2,
   "metadata": {},
   "outputs": [
    {
     "data": {
      "text/html": [
       "<div>\n",
       "<style scoped>\n",
       "    .dataframe tbody tr th:only-of-type {\n",
       "        vertical-align: middle;\n",
       "    }\n",
       "\n",
       "    .dataframe tbody tr th {\n",
       "        vertical-align: top;\n",
       "    }\n",
       "\n",
       "    .dataframe thead th {\n",
       "        text-align: right;\n",
       "    }\n",
       "</style>\n",
       "<table border=\"1\" class=\"dataframe\">\n",
       "  <thead>\n",
       "    <tr style=\"text-align: right;\">\n",
       "      <th></th>\n",
       "      <th>age</th>\n",
       "      <th>sex</th>\n",
       "      <th>cp</th>\n",
       "      <th>trestbps</th>\n",
       "      <th>chol</th>\n",
       "      <th>fbs</th>\n",
       "      <th>restecg</th>\n",
       "      <th>thalach</th>\n",
       "      <th>exang</th>\n",
       "      <th>oldpeak</th>\n",
       "      <th>slope</th>\n",
       "      <th>ca</th>\n",
       "      <th>thal</th>\n",
       "      <th>target</th>\n",
       "    </tr>\n",
       "  </thead>\n",
       "  <tbody>\n",
       "    <tr>\n",
       "      <th>0</th>\n",
       "      <td>63</td>\n",
       "      <td>1</td>\n",
       "      <td>3</td>\n",
       "      <td>145</td>\n",
       "      <td>233</td>\n",
       "      <td>1</td>\n",
       "      <td>0</td>\n",
       "      <td>150</td>\n",
       "      <td>0</td>\n",
       "      <td>2.3</td>\n",
       "      <td>0</td>\n",
       "      <td>0</td>\n",
       "      <td>1</td>\n",
       "      <td>1</td>\n",
       "    </tr>\n",
       "    <tr>\n",
       "      <th>1</th>\n",
       "      <td>37</td>\n",
       "      <td>1</td>\n",
       "      <td>2</td>\n",
       "      <td>130</td>\n",
       "      <td>250</td>\n",
       "      <td>0</td>\n",
       "      <td>1</td>\n",
       "      <td>187</td>\n",
       "      <td>0</td>\n",
       "      <td>3.5</td>\n",
       "      <td>0</td>\n",
       "      <td>0</td>\n",
       "      <td>2</td>\n",
       "      <td>1</td>\n",
       "    </tr>\n",
       "    <tr>\n",
       "      <th>2</th>\n",
       "      <td>41</td>\n",
       "      <td>0</td>\n",
       "      <td>1</td>\n",
       "      <td>130</td>\n",
       "      <td>204</td>\n",
       "      <td>0</td>\n",
       "      <td>0</td>\n",
       "      <td>172</td>\n",
       "      <td>0</td>\n",
       "      <td>1.4</td>\n",
       "      <td>2</td>\n",
       "      <td>0</td>\n",
       "      <td>2</td>\n",
       "      <td>1</td>\n",
       "    </tr>\n",
       "    <tr>\n",
       "      <th>3</th>\n",
       "      <td>56</td>\n",
       "      <td>1</td>\n",
       "      <td>1</td>\n",
       "      <td>120</td>\n",
       "      <td>236</td>\n",
       "      <td>0</td>\n",
       "      <td>1</td>\n",
       "      <td>178</td>\n",
       "      <td>0</td>\n",
       "      <td>0.8</td>\n",
       "      <td>2</td>\n",
       "      <td>0</td>\n",
       "      <td>2</td>\n",
       "      <td>1</td>\n",
       "    </tr>\n",
       "    <tr>\n",
       "      <th>4</th>\n",
       "      <td>57</td>\n",
       "      <td>0</td>\n",
       "      <td>0</td>\n",
       "      <td>120</td>\n",
       "      <td>354</td>\n",
       "      <td>0</td>\n",
       "      <td>1</td>\n",
       "      <td>163</td>\n",
       "      <td>1</td>\n",
       "      <td>0.6</td>\n",
       "      <td>2</td>\n",
       "      <td>0</td>\n",
       "      <td>2</td>\n",
       "      <td>1</td>\n",
       "    </tr>\n",
       "  </tbody>\n",
       "</table>\n",
       "</div>"
      ],
      "text/plain": [
       "   age  sex  cp  trestbps  chol  fbs  restecg  thalach  exang  oldpeak  slope  \\\n",
       "0   63    1   3       145   233    1        0      150      0      2.3      0   \n",
       "1   37    1   2       130   250    0        1      187      0      3.5      0   \n",
       "2   41    0   1       130   204    0        0      172      0      1.4      2   \n",
       "3   56    1   1       120   236    0        1      178      0      0.8      2   \n",
       "4   57    0   0       120   354    0        1      163      1      0.6      2   \n",
       "\n",
       "   ca  thal  target  \n",
       "0   0     1       1  \n",
       "1   0     2       1  \n",
       "2   0     2       1  \n",
       "3   0     2       1  \n",
       "4   0     2       1  "
      ]
     },
     "execution_count": 2,
     "metadata": {},
     "output_type": "execute_result"
    }
   ],
   "source": [
    "df = pd.read_csv('heart.csv')\n",
    "df.head()"
   ]
  },
  {
   "cell_type": "code",
   "execution_count": 3,
   "metadata": {},
   "outputs": [
    {
     "data": {
      "text/plain": [
       "(303, 14)"
      ]
     },
     "execution_count": 3,
     "metadata": {},
     "output_type": "execute_result"
    }
   ],
   "source": [
    "df.shape"
   ]
  },
  {
   "cell_type": "code",
   "execution_count": 4,
   "metadata": {},
   "outputs": [
    {
     "data": {
      "text/plain": [
       "age         0\n",
       "sex         0\n",
       "cp          0\n",
       "trestbps    0\n",
       "chol        0\n",
       "fbs         0\n",
       "restecg     0\n",
       "thalach     0\n",
       "exang       0\n",
       "oldpeak     0\n",
       "slope       0\n",
       "ca          0\n",
       "thal        0\n",
       "target      0\n",
       "dtype: int64"
      ]
     },
     "execution_count": 4,
     "metadata": {},
     "output_type": "execute_result"
    }
   ],
   "source": [
    "df.isnull().sum()"
   ]
  },
  {
   "cell_type": "code",
   "execution_count": 5,
   "metadata": {},
   "outputs": [
    {
     "data": {
      "text/plain": [
       "1    165\n",
       "0    138\n",
       "Name: target, dtype: int64"
      ]
     },
     "execution_count": 5,
     "metadata": {},
     "output_type": "execute_result"
    }
   ],
   "source": [
    "df['target'].value_counts()"
   ]
  },
  {
   "cell_type": "code",
   "execution_count": 6,
   "metadata": {},
   "outputs": [],
   "source": [
    "test = df['target']\n",
    "\n",
    "train = df.drop(['target'],axis = 1)\n",
    "\n"
   ]
  },
  {
   "cell_type": "code",
   "execution_count": 7,
   "metadata": {},
   "outputs": [],
   "source": [
    "from sklearn.preprocessing import StandardScaler\n",
    "ss = StandardScaler()"
   ]
  },
  {
   "cell_type": "code",
   "execution_count": 8,
   "metadata": {},
   "outputs": [],
   "source": [
    "from sklearn.ensemble import RandomForestClassifier\n",
    "from sklearn.tree import DecisionTreeClassifier\n",
    "from sklearn.linear_model import LogisticRegression\n",
    "from sklearn.svm import SVC\n",
    "from sklearn.model_selection import train_test_split,RandomizedSearchCV,cross_val_score"
   ]
  },
  {
   "cell_type": "code",
   "execution_count": 9,
   "metadata": {},
   "outputs": [],
   "source": [
    "from sklearn import metrics"
   ]
  },
  {
   "cell_type": "raw",
   "metadata": {},
   "source": [
    "RandomForestClassifier(\n",
    "    n_estimators=100,\n",
    "    criterion='gini',\n",
    "    max_depth=None,\n",
    "    min_samples_split=2,\n",
    "    min_samples_leaf=1,\n",
    "    min_weight_fraction_leaf=0.0,\n",
    "    max_features='auto',\n",
    "    max_leaf_nodes=None,\n",
    "    min_impurity_decrease=0.0,\n",
    "    min_impurity_split=None,\n",
    "    bootstrap=True,\n",
    "    oob_score=False,\n",
    "    n_jobs=None,\n",
    "    random_state=None,\n",
    "    verbose=0,\n",
    "    warm_start=False,\n",
    "    class_weight=None,\n",
    "    ccp_alpha=0.0,\n",
    "    max_samples=None,"
   ]
  },
  {
   "cell_type": "code",
   "execution_count": 10,
   "metadata": {},
   "outputs": [],
   "source": [
    "tree_params = {\n",
    "    'n_estimators':[int(x) for x in np.linspace(start=1,stop=1200,num=10)],\n",
    "    'max_depth':[int(x) for x in np.linspace(start=1,stop=30,num=5)],\n",
    "    'min_samples_split':[2,5,10,15],\n",
    "    'min_samples_leaf':[2,5,10,15],\n",
    "    'max_features':['auto','sqrt'],\n",
    "}"
   ]
  },
  {
   "cell_type": "code",
   "execution_count": 11,
   "metadata": {},
   "outputs": [
    {
     "name": "stdout",
     "output_type": "stream",
     "text": [
      "Fitting 5 folds for each of 10 candidates, totalling 50 fits\n",
      "[CV] n_estimators=400, min_samples_split=5, min_samples_leaf=5, max_features=auto, max_depth=1 \n"
     ]
    },
    {
     "name": "stderr",
     "output_type": "stream",
     "text": [
      "[Parallel(n_jobs=1)]: Using backend SequentialBackend with 1 concurrent workers.\n"
     ]
    },
    {
     "name": "stdout",
     "output_type": "stream",
     "text": [
      "[CV]  n_estimators=400, min_samples_split=5, min_samples_leaf=5, max_features=auto, max_depth=1, total=   1.8s\n",
      "[CV] n_estimators=400, min_samples_split=5, min_samples_leaf=5, max_features=auto, max_depth=1 \n"
     ]
    },
    {
     "name": "stderr",
     "output_type": "stream",
     "text": [
      "[Parallel(n_jobs=1)]: Done   1 out of   1 | elapsed:    1.7s remaining:    0.0s\n"
     ]
    },
    {
     "name": "stdout",
     "output_type": "stream",
     "text": [
      "[CV]  n_estimators=400, min_samples_split=5, min_samples_leaf=5, max_features=auto, max_depth=1, total=   1.4s\n",
      "[CV] n_estimators=400, min_samples_split=5, min_samples_leaf=5, max_features=auto, max_depth=1 \n",
      "[CV]  n_estimators=400, min_samples_split=5, min_samples_leaf=5, max_features=auto, max_depth=1, total=   1.5s\n",
      "[CV] n_estimators=400, min_samples_split=5, min_samples_leaf=5, max_features=auto, max_depth=1 \n",
      "[CV]  n_estimators=400, min_samples_split=5, min_samples_leaf=5, max_features=auto, max_depth=1, total=   1.6s\n",
      "[CV] n_estimators=400, min_samples_split=5, min_samples_leaf=5, max_features=auto, max_depth=1 \n",
      "[CV]  n_estimators=400, min_samples_split=5, min_samples_leaf=5, max_features=auto, max_depth=1, total=   1.5s\n",
      "[CV] n_estimators=1200, min_samples_split=2, min_samples_leaf=5, max_features=sqrt, max_depth=22 \n",
      "[CV]  n_estimators=1200, min_samples_split=2, min_samples_leaf=5, max_features=sqrt, max_depth=22, total=   5.1s\n",
      "[CV] n_estimators=1200, min_samples_split=2, min_samples_leaf=5, max_features=sqrt, max_depth=22 \n",
      "[CV]  n_estimators=1200, min_samples_split=2, min_samples_leaf=5, max_features=sqrt, max_depth=22, total=   4.8s\n",
      "[CV] n_estimators=1200, min_samples_split=2, min_samples_leaf=5, max_features=sqrt, max_depth=22 \n",
      "[CV]  n_estimators=1200, min_samples_split=2, min_samples_leaf=5, max_features=sqrt, max_depth=22, total=   4.6s\n",
      "[CV] n_estimators=1200, min_samples_split=2, min_samples_leaf=5, max_features=sqrt, max_depth=22 \n",
      "[CV]  n_estimators=1200, min_samples_split=2, min_samples_leaf=5, max_features=sqrt, max_depth=22, total=   4.4s\n",
      "[CV] n_estimators=1200, min_samples_split=2, min_samples_leaf=5, max_features=sqrt, max_depth=22 \n",
      "[CV]  n_estimators=1200, min_samples_split=2, min_samples_leaf=5, max_features=sqrt, max_depth=22, total=   4.5s\n",
      "[CV] n_estimators=933, min_samples_split=15, min_samples_leaf=5, max_features=auto, max_depth=22 \n",
      "[CV]  n_estimators=933, min_samples_split=15, min_samples_leaf=5, max_features=auto, max_depth=22, total=   3.5s\n",
      "[CV] n_estimators=933, min_samples_split=15, min_samples_leaf=5, max_features=auto, max_depth=22 \n",
      "[CV]  n_estimators=933, min_samples_split=15, min_samples_leaf=5, max_features=auto, max_depth=22, total=   3.4s\n",
      "[CV] n_estimators=933, min_samples_split=15, min_samples_leaf=5, max_features=auto, max_depth=22 \n",
      "[CV]  n_estimators=933, min_samples_split=15, min_samples_leaf=5, max_features=auto, max_depth=22, total=   3.6s\n",
      "[CV] n_estimators=933, min_samples_split=15, min_samples_leaf=5, max_features=auto, max_depth=22 \n",
      "[CV]  n_estimators=933, min_samples_split=15, min_samples_leaf=5, max_features=auto, max_depth=22, total=   3.5s\n",
      "[CV] n_estimators=933, min_samples_split=15, min_samples_leaf=5, max_features=auto, max_depth=22 \n",
      "[CV]  n_estimators=933, min_samples_split=15, min_samples_leaf=5, max_features=auto, max_depth=22, total=   3.5s\n",
      "[CV] n_estimators=267, min_samples_split=15, min_samples_leaf=15, max_features=auto, max_depth=1 \n",
      "[CV]  n_estimators=267, min_samples_split=15, min_samples_leaf=15, max_features=auto, max_depth=1, total=   0.9s\n",
      "[CV] n_estimators=267, min_samples_split=15, min_samples_leaf=15, max_features=auto, max_depth=1 \n",
      "[CV]  n_estimators=267, min_samples_split=15, min_samples_leaf=15, max_features=auto, max_depth=1, total=   1.0s\n",
      "[CV] n_estimators=267, min_samples_split=15, min_samples_leaf=15, max_features=auto, max_depth=1 \n",
      "[CV]  n_estimators=267, min_samples_split=15, min_samples_leaf=15, max_features=auto, max_depth=1, total=   0.9s\n",
      "[CV] n_estimators=267, min_samples_split=15, min_samples_leaf=15, max_features=auto, max_depth=1 \n",
      "[CV]  n_estimators=267, min_samples_split=15, min_samples_leaf=15, max_features=auto, max_depth=1, total=   0.9s\n",
      "[CV] n_estimators=267, min_samples_split=15, min_samples_leaf=15, max_features=auto, max_depth=1 \n",
      "[CV]  n_estimators=267, min_samples_split=15, min_samples_leaf=15, max_features=auto, max_depth=1, total=   0.9s\n",
      "[CV] n_estimators=800, min_samples_split=5, min_samples_leaf=2, max_features=sqrt, max_depth=30 \n",
      "[CV]  n_estimators=800, min_samples_split=5, min_samples_leaf=2, max_features=sqrt, max_depth=30, total=   3.1s\n",
      "[CV] n_estimators=800, min_samples_split=5, min_samples_leaf=2, max_features=sqrt, max_depth=30 \n",
      "[CV]  n_estimators=800, min_samples_split=5, min_samples_leaf=2, max_features=sqrt, max_depth=30, total=   3.1s\n",
      "[CV] n_estimators=800, min_samples_split=5, min_samples_leaf=2, max_features=sqrt, max_depth=30 \n",
      "[CV]  n_estimators=800, min_samples_split=5, min_samples_leaf=2, max_features=sqrt, max_depth=30, total=   3.2s\n",
      "[CV] n_estimators=800, min_samples_split=5, min_samples_leaf=2, max_features=sqrt, max_depth=30 \n",
      "[CV]  n_estimators=800, min_samples_split=5, min_samples_leaf=2, max_features=sqrt, max_depth=30, total=   3.1s\n",
      "[CV] n_estimators=800, min_samples_split=5, min_samples_leaf=2, max_features=sqrt, max_depth=30 \n",
      "[CV]  n_estimators=800, min_samples_split=5, min_samples_leaf=2, max_features=sqrt, max_depth=30, total=   3.1s\n",
      "[CV] n_estimators=533, min_samples_split=10, min_samples_leaf=5, max_features=sqrt, max_depth=15 \n",
      "[CV]  n_estimators=533, min_samples_split=10, min_samples_leaf=5, max_features=sqrt, max_depth=15, total=   2.3s\n",
      "[CV] n_estimators=533, min_samples_split=10, min_samples_leaf=5, max_features=sqrt, max_depth=15 \n",
      "[CV]  n_estimators=533, min_samples_split=10, min_samples_leaf=5, max_features=sqrt, max_depth=15, total=   2.1s\n",
      "[CV] n_estimators=533, min_samples_split=10, min_samples_leaf=5, max_features=sqrt, max_depth=15 \n",
      "[CV]  n_estimators=533, min_samples_split=10, min_samples_leaf=5, max_features=sqrt, max_depth=15, total=   2.0s\n",
      "[CV] n_estimators=533, min_samples_split=10, min_samples_leaf=5, max_features=sqrt, max_depth=15 \n",
      "[CV]  n_estimators=533, min_samples_split=10, min_samples_leaf=5, max_features=sqrt, max_depth=15, total=   2.1s\n",
      "[CV] n_estimators=533, min_samples_split=10, min_samples_leaf=5, max_features=sqrt, max_depth=15 \n",
      "[CV]  n_estimators=533, min_samples_split=10, min_samples_leaf=5, max_features=sqrt, max_depth=15, total=   1.9s\n",
      "[CV] n_estimators=400, min_samples_split=15, min_samples_leaf=10, max_features=sqrt, max_depth=22 \n",
      "[CV]  n_estimators=400, min_samples_split=15, min_samples_leaf=10, max_features=sqrt, max_depth=22, total=   1.4s\n",
      "[CV] n_estimators=400, min_samples_split=15, min_samples_leaf=10, max_features=sqrt, max_depth=22 \n",
      "[CV]  n_estimators=400, min_samples_split=15, min_samples_leaf=10, max_features=sqrt, max_depth=22, total=   1.7s\n",
      "[CV] n_estimators=400, min_samples_split=15, min_samples_leaf=10, max_features=sqrt, max_depth=22 \n",
      "[CV]  n_estimators=400, min_samples_split=15, min_samples_leaf=10, max_features=sqrt, max_depth=22, total=   1.5s\n",
      "[CV] n_estimators=400, min_samples_split=15, min_samples_leaf=10, max_features=sqrt, max_depth=22 \n",
      "[CV]  n_estimators=400, min_samples_split=15, min_samples_leaf=10, max_features=sqrt, max_depth=22, total=   1.4s\n",
      "[CV] n_estimators=400, min_samples_split=15, min_samples_leaf=10, max_features=sqrt, max_depth=22 \n",
      "[CV]  n_estimators=400, min_samples_split=15, min_samples_leaf=10, max_features=sqrt, max_depth=22, total=   1.5s\n",
      "[CV] n_estimators=800, min_samples_split=10, min_samples_leaf=10, max_features=auto, max_depth=22 \n",
      "[CV]  n_estimators=800, min_samples_split=10, min_samples_leaf=10, max_features=auto, max_depth=22, total=   2.9s\n",
      "[CV] n_estimators=800, min_samples_split=10, min_samples_leaf=10, max_features=auto, max_depth=22 \n",
      "[CV]  n_estimators=800, min_samples_split=10, min_samples_leaf=10, max_features=auto, max_depth=22, total=   3.0s\n",
      "[CV] n_estimators=800, min_samples_split=10, min_samples_leaf=10, max_features=auto, max_depth=22 \n",
      "[CV]  n_estimators=800, min_samples_split=10, min_samples_leaf=10, max_features=auto, max_depth=22, total=   2.8s\n",
      "[CV] n_estimators=800, min_samples_split=10, min_samples_leaf=10, max_features=auto, max_depth=22 \n",
      "[CV]  n_estimators=800, min_samples_split=10, min_samples_leaf=10, max_features=auto, max_depth=22, total=   3.4s\n",
      "[CV] n_estimators=800, min_samples_split=10, min_samples_leaf=10, max_features=auto, max_depth=22 \n",
      "[CV]  n_estimators=800, min_samples_split=10, min_samples_leaf=10, max_features=auto, max_depth=22, total=   3.2s\n",
      "[CV] n_estimators=267, min_samples_split=5, min_samples_leaf=10, max_features=auto, max_depth=8 \n"
     ]
    },
    {
     "name": "stdout",
     "output_type": "stream",
     "text": [
      "[CV]  n_estimators=267, min_samples_split=5, min_samples_leaf=10, max_features=auto, max_depth=8, total=   1.2s\n",
      "[CV] n_estimators=267, min_samples_split=5, min_samples_leaf=10, max_features=auto, max_depth=8 \n",
      "[CV]  n_estimators=267, min_samples_split=5, min_samples_leaf=10, max_features=auto, max_depth=8, total=   1.0s\n",
      "[CV] n_estimators=267, min_samples_split=5, min_samples_leaf=10, max_features=auto, max_depth=8 \n",
      "[CV]  n_estimators=267, min_samples_split=5, min_samples_leaf=10, max_features=auto, max_depth=8, total=   1.0s\n",
      "[CV] n_estimators=267, min_samples_split=5, min_samples_leaf=10, max_features=auto, max_depth=8 \n",
      "[CV]  n_estimators=267, min_samples_split=5, min_samples_leaf=10, max_features=auto, max_depth=8, total=   1.1s\n",
      "[CV] n_estimators=267, min_samples_split=5, min_samples_leaf=10, max_features=auto, max_depth=8 \n",
      "[CV]  n_estimators=267, min_samples_split=5, min_samples_leaf=10, max_features=auto, max_depth=8, total=   1.2s\n",
      "[CV] n_estimators=533, min_samples_split=10, min_samples_leaf=10, max_features=auto, max_depth=1 \n",
      "[CV]  n_estimators=533, min_samples_split=10, min_samples_leaf=10, max_features=auto, max_depth=1, total=   2.2s\n",
      "[CV] n_estimators=533, min_samples_split=10, min_samples_leaf=10, max_features=auto, max_depth=1 \n",
      "[CV]  n_estimators=533, min_samples_split=10, min_samples_leaf=10, max_features=auto, max_depth=1, total=   1.9s\n",
      "[CV] n_estimators=533, min_samples_split=10, min_samples_leaf=10, max_features=auto, max_depth=1 \n",
      "[CV]  n_estimators=533, min_samples_split=10, min_samples_leaf=10, max_features=auto, max_depth=1, total=   2.1s\n",
      "[CV] n_estimators=533, min_samples_split=10, min_samples_leaf=10, max_features=auto, max_depth=1 \n",
      "[CV]  n_estimators=533, min_samples_split=10, min_samples_leaf=10, max_features=auto, max_depth=1, total=   1.8s\n",
      "[CV] n_estimators=533, min_samples_split=10, min_samples_leaf=10, max_features=auto, max_depth=1 \n",
      "[CV]  n_estimators=533, min_samples_split=10, min_samples_leaf=10, max_features=auto, max_depth=1, total=   2.0s\n"
     ]
    },
    {
     "name": "stderr",
     "output_type": "stream",
     "text": [
      "[Parallel(n_jobs=1)]: Done  50 out of  50 | elapsed:  2.0min finished\n"
     ]
    },
    {
     "data": {
      "text/plain": [
       "RandomizedSearchCV(cv=5, estimator=RandomForestClassifier(),\n",
       "                   param_distributions={'max_depth': [1, 8, 15, 22, 30],\n",
       "                                        'max_features': ['auto', 'sqrt'],\n",
       "                                        'min_samples_leaf': [2, 5, 10, 15],\n",
       "                                        'min_samples_split': [2, 5, 10, 15],\n",
       "                                        'n_estimators': [1, 134, 267, 400, 533,\n",
       "                                                         667, 800, 933, 1066,\n",
       "                                                         1200]},\n",
       "                   scoring='accuracy', verbose=2)"
      ]
     },
     "execution_count": 11,
     "metadata": {},
     "output_type": "execute_result"
    }
   ],
   "source": [
    "r_est = RandomizedSearchCV(RandomForestClassifier(),param_distributions=tree_params,cv = 5,n_iter=10,verbose=2,scoring='accuracy',\n",
    "                          return_train_score=False)\n",
    "r_est.fit(train,test)"
   ]
  },
  {
   "cell_type": "code",
   "execution_count": 12,
   "metadata": {},
   "outputs": [
    {
     "data": {
      "text/plain": [
       "0.8381967213114754"
      ]
     },
     "execution_count": 12,
     "metadata": {},
     "output_type": "execute_result"
    }
   ],
   "source": [
    "r_est.best_score_"
   ]
  },
  {
   "cell_type": "code",
   "execution_count": 13,
   "metadata": {},
   "outputs": [],
   "source": [
    "d_tree = {\n",
    "    'max_depth':[int(x) for x in np.linspace(start=1,stop=30,num=5)],\n",
    "    'min_samples_split':[2,5,10,15],\n",
    "    'min_samples_leaf':[2,5,10,15],\n",
    "}"
   ]
  },
  {
   "cell_type": "code",
   "execution_count": 14,
   "metadata": {},
   "outputs": [
    {
     "name": "stdout",
     "output_type": "stream",
     "text": [
      "Fitting 5 folds for each of 10 candidates, totalling 50 fits\n",
      "[CV] min_samples_split=2, min_samples_leaf=2, max_depth=8 ............\n",
      "[CV]  min_samples_split=2, min_samples_leaf=2, max_depth=8, total=   0.0s\n",
      "[CV] min_samples_split=2, min_samples_leaf=2, max_depth=8 ............\n",
      "[CV]  min_samples_split=2, min_samples_leaf=2, max_depth=8, total=   0.0s\n",
      "[CV] min_samples_split=2, min_samples_leaf=2, max_depth=8 ............\n",
      "[CV]  min_samples_split=2, min_samples_leaf=2, max_depth=8, total=   0.0s\n",
      "[CV] min_samples_split=2, min_samples_leaf=2, max_depth=8 ............\n",
      "[CV]  min_samples_split=2, min_samples_leaf=2, max_depth=8, total=   0.0s\n",
      "[CV] min_samples_split=2, min_samples_leaf=2, max_depth=8 ............\n",
      "[CV]  min_samples_split=2, min_samples_leaf=2, max_depth=8, total=   0.0s\n",
      "[CV] min_samples_split=15, min_samples_leaf=15, max_depth=22 .........\n",
      "[CV]  min_samples_split=15, min_samples_leaf=15, max_depth=22, total=   0.0s\n",
      "[CV] min_samples_split=15, min_samples_leaf=15, max_depth=22 .........\n",
      "[CV]  min_samples_split=15, min_samples_leaf=15, max_depth=22, total=   0.0s\n",
      "[CV] min_samples_split=15, min_samples_leaf=15, max_depth=22 .........\n",
      "[CV]  min_samples_split=15, min_samples_leaf=15, max_depth=22, total=   0.0s\n",
      "[CV] min_samples_split=15, min_samples_leaf=15, max_depth=22 .........\n",
      "[CV]  min_samples_split=15, min_samples_leaf=15, max_depth=22, total=   0.0s\n",
      "[CV] min_samples_split=15, min_samples_leaf=15, max_depth=22 .........\n",
      "[CV]  min_samples_split=15, min_samples_leaf=15, max_depth=22, total=   0.0s\n",
      "[CV] min_samples_split=5, min_samples_leaf=15, max_depth=15 ..........\n",
      "[CV]  min_samples_split=5, min_samples_leaf=15, max_depth=15, total=   0.0s"
     ]
    },
    {
     "name": "stderr",
     "output_type": "stream",
     "text": [
      "[Parallel(n_jobs=1)]: Using backend SequentialBackend with 1 concurrent workers.\n",
      "[Parallel(n_jobs=1)]: Done   1 out of   1 | elapsed:    0.0s remaining:    0.0s\n"
     ]
    },
    {
     "name": "stdout",
     "output_type": "stream",
     "text": [
      "\n",
      "[CV] min_samples_split=5, min_samples_leaf=15, max_depth=15 ..........\n",
      "[CV]  min_samples_split=5, min_samples_leaf=15, max_depth=15, total=   0.0s\n",
      "[CV] min_samples_split=5, min_samples_leaf=15, max_depth=15 ..........\n",
      "[CV]  min_samples_split=5, min_samples_leaf=15, max_depth=15, total=   0.0s\n",
      "[CV] min_samples_split=5, min_samples_leaf=15, max_depth=15 ..........\n",
      "[CV]  min_samples_split=5, min_samples_leaf=15, max_depth=15, total=   0.0s\n",
      "[CV] min_samples_split=5, min_samples_leaf=15, max_depth=15 ..........\n",
      "[CV]  min_samples_split=5, min_samples_leaf=15, max_depth=15, total=   0.0s\n",
      "[CV] min_samples_split=10, min_samples_leaf=5, max_depth=22 ..........\n",
      "[CV]  min_samples_split=10, min_samples_leaf=5, max_depth=22, total=   0.0s\n",
      "[CV] min_samples_split=10, min_samples_leaf=5, max_depth=22 ..........\n",
      "[CV]  min_samples_split=10, min_samples_leaf=5, max_depth=22, total=   0.0s\n",
      "[CV] min_samples_split=10, min_samples_leaf=5, max_depth=22 ..........\n",
      "[CV]  min_samples_split=10, min_samples_leaf=5, max_depth=22, total=   0.0s\n",
      "[CV] min_samples_split=10, min_samples_leaf=5, max_depth=22 ..........\n",
      "[CV]  min_samples_split=10, min_samples_leaf=5, max_depth=22, total=   0.0s\n",
      "[CV] min_samples_split=10, min_samples_leaf=5, max_depth=22 ..........\n",
      "[CV]  min_samples_split=10, min_samples_leaf=5, max_depth=22, total=   0.0s\n",
      "[CV] min_samples_split=10, min_samples_leaf=2, max_depth=30 ..........\n",
      "[CV]  min_samples_split=10, min_samples_leaf=2, max_depth=30, total=   0.0s\n",
      "[CV] min_samples_split=10, min_samples_leaf=2, max_depth=30 ..........\n",
      "[CV]  min_samples_split=10, min_samples_leaf=2, max_depth=30, total=   0.0s\n",
      "[CV] min_samples_split=10, min_samples_leaf=2, max_depth=30 ..........\n",
      "[CV]  min_samples_split=10, min_samples_leaf=2, max_depth=30, total=   0.0s\n",
      "[CV] min_samples_split=10, min_samples_leaf=2, max_depth=30 ..........\n",
      "[CV]  min_samples_split=10, min_samples_leaf=2, max_depth=30, total=   0.0s\n",
      "[CV] min_samples_split=10, min_samples_leaf=2, max_depth=30 ..........\n",
      "[CV]  min_samples_split=10, min_samples_leaf=2, max_depth=30, total=   0.0s\n",
      "[CV] min_samples_split=10, min_samples_leaf=2, max_depth=8 ...........\n",
      "[CV]  min_samples_split=10, min_samples_leaf=2, max_depth=8, total=   0.0s\n",
      "[CV] min_samples_split=10, min_samples_leaf=2, max_depth=8 ...........\n",
      "[CV]  min_samples_split=10, min_samples_leaf=2, max_depth=8, total=   0.0s\n",
      "[CV] min_samples_split=10, min_samples_leaf=2, max_depth=8 ...........\n",
      "[CV]  min_samples_split=10, min_samples_leaf=2, max_depth=8, total=   0.0s\n",
      "[CV] min_samples_split=10, min_samples_leaf=2, max_depth=8 ...........\n",
      "[CV]  min_samples_split=10, min_samples_leaf=2, max_depth=8, total=   0.0s\n",
      "[CV] min_samples_split=10, min_samples_leaf=2, max_depth=8 ...........\n",
      "[CV]  min_samples_split=10, min_samples_leaf=2, max_depth=8, total=   0.0s\n",
      "[CV] min_samples_split=2, min_samples_leaf=10, max_depth=15 ..........\n",
      "[CV]  min_samples_split=2, min_samples_leaf=10, max_depth=15, total=   0.0s\n",
      "[CV] min_samples_split=2, min_samples_leaf=10, max_depth=15 ..........\n",
      "[CV]  min_samples_split=2, min_samples_leaf=10, max_depth=15, total=   0.0s\n",
      "[CV] min_samples_split=2, min_samples_leaf=10, max_depth=15 ..........\n",
      "[CV]  min_samples_split=2, min_samples_leaf=10, max_depth=15, total=   0.0s\n",
      "[CV] min_samples_split=2, min_samples_leaf=10, max_depth=15 ..........\n",
      "[CV]  min_samples_split=2, min_samples_leaf=10, max_depth=15, total=   0.0s\n",
      "[CV] min_samples_split=2, min_samples_leaf=10, max_depth=15 ..........\n",
      "[CV]  min_samples_split=2, min_samples_leaf=10, max_depth=15, total=   0.0s\n",
      "[CV] min_samples_split=15, min_samples_leaf=5, max_depth=8 ...........\n",
      "[CV]  min_samples_split=15, min_samples_leaf=5, max_depth=8, total=   0.0s\n",
      "[CV] min_samples_split=15, min_samples_leaf=5, max_depth=8 ...........\n",
      "[CV]  min_samples_split=15, min_samples_leaf=5, max_depth=8, total=   0.0s\n",
      "[CV] min_samples_split=15, min_samples_leaf=5, max_depth=8 ...........\n",
      "[CV]  min_samples_split=15, min_samples_leaf=5, max_depth=8, total=   0.0s\n",
      "[CV] min_samples_split=15, min_samples_leaf=5, max_depth=8 ...........\n",
      "[CV]  min_samples_split=15, min_samples_leaf=5, max_depth=8, total=   0.0s\n",
      "[CV] min_samples_split=15, min_samples_leaf=5, max_depth=8 ...........\n",
      "[CV]  min_samples_split=15, min_samples_leaf=5, max_depth=8, total=   0.0s\n",
      "[CV] min_samples_split=10, min_samples_leaf=5, max_depth=8 ...........\n",
      "[CV]  min_samples_split=10, min_samples_leaf=5, max_depth=8, total=   0.0s\n",
      "[CV] min_samples_split=10, min_samples_leaf=5, max_depth=8 ...........\n",
      "[CV]  min_samples_split=10, min_samples_leaf=5, max_depth=8, total=   0.0s\n",
      "[CV] min_samples_split=10, min_samples_leaf=5, max_depth=8 ...........\n",
      "[CV]  min_samples_split=10, min_samples_leaf=5, max_depth=8, total=   0.0s\n",
      "[CV] min_samples_split=10, min_samples_leaf=5, max_depth=8 ...........\n",
      "[CV]  min_samples_split=10, min_samples_leaf=5, max_depth=8, total=   0.0s\n",
      "[CV] min_samples_split=10, min_samples_leaf=5, max_depth=8 ...........\n",
      "[CV]  min_samples_split=10, min_samples_leaf=5, max_depth=8, total=   0.0s\n",
      "[CV] min_samples_split=5, min_samples_leaf=15, max_depth=22 ..........\n",
      "[CV]  min_samples_split=5, min_samples_leaf=15, max_depth=22, total=   0.0s\n",
      "[CV] min_samples_split=5, min_samples_leaf=15, max_depth=22 ..........\n",
      "[CV]  min_samples_split=5, min_samples_leaf=15, max_depth=22, total=   0.0s\n",
      "[CV] min_samples_split=5, min_samples_leaf=15, max_depth=22 ..........\n",
      "[CV]  min_samples_split=5, min_samples_leaf=15, max_depth=22, total=   0.0s\n",
      "[CV] min_samples_split=5, min_samples_leaf=15, max_depth=22 ..........\n",
      "[CV]  min_samples_split=5, min_samples_leaf=15, max_depth=22, total=   0.0s\n",
      "[CV] min_samples_split=5, min_samples_leaf=15, max_depth=22 ..........\n",
      "[CV]  min_samples_split=5, min_samples_leaf=15, max_depth=22, total=   0.0s\n"
     ]
    },
    {
     "name": "stderr",
     "output_type": "stream",
     "text": [
      "[Parallel(n_jobs=1)]: Done  50 out of  50 | elapsed:    0.6s finished\n"
     ]
    },
    {
     "data": {
      "text/plain": [
       "RandomizedSearchCV(cv=5, estimator=DecisionTreeClassifier(),\n",
       "                   param_distributions={'max_depth': [1, 8, 15, 22, 30],\n",
       "                                        'min_samples_leaf': [2, 5, 10, 15],\n",
       "                                        'min_samples_split': [2, 5, 10, 15]},\n",
       "                   scoring='accuracy', verbose=2)"
      ]
     },
     "execution_count": 14,
     "metadata": {},
     "output_type": "execute_result"
    }
   ],
   "source": [
    "dtree_est = RandomizedSearchCV(DecisionTreeClassifier(),param_distributions=d_tree,cv = 5,n_iter=10,verbose=2,scoring='accuracy',\n",
    "                          return_train_score=False)\n",
    "dtree_est.fit(train,test)"
   ]
  },
  {
   "cell_type": "code",
   "execution_count": 15,
   "metadata": {},
   "outputs": [
    {
     "data": {
      "text/plain": [
       "0.8183060109289617"
      ]
     },
     "execution_count": 15,
     "metadata": {},
     "output_type": "execute_result"
    }
   ],
   "source": [
    "dtree_est.best_score_"
   ]
  },
  {
   "cell_type": "code",
   "execution_count": 17,
   "metadata": {},
   "outputs": [
    {
     "data": {
      "text/plain": [
       "DecisionTreeClassifier(max_depth=22, min_samples_leaf=15, min_samples_split=5)"
      ]
     },
     "execution_count": 17,
     "metadata": {},
     "output_type": "execute_result"
    }
   ],
   "source": [
    "dtree_est.best_estimator_"
   ]
  },
  {
   "cell_type": "code",
   "execution_count": 18,
   "metadata": {},
   "outputs": [
    {
     "ename": "ModuleNotFoundError",
     "evalue": "No module named 'pycaret'",
     "output_type": "error",
     "traceback": [
      "\u001b[1;31m---------------------------------------------------------------------------\u001b[0m",
      "\u001b[1;31mModuleNotFoundError\u001b[0m                       Traceback (most recent call last)",
      "\u001b[1;32m<ipython-input-18-bc14816cda88>\u001b[0m in \u001b[0;36m<module>\u001b[1;34m\u001b[0m\n\u001b[1;32m----> 1\u001b[1;33m \u001b[1;32mimport\u001b[0m \u001b[0mpycaret\u001b[0m\u001b[1;33m\u001b[0m\u001b[1;33m\u001b[0m\u001b[0m\n\u001b[0m",
      "\u001b[1;31mModuleNotFoundError\u001b[0m: No module named 'pycaret'"
     ]
    }
   ],
   "source": [
    "import pycaret\n"
   ]
  },
  {
   "cell_type": "code",
   "execution_count": 19,
   "metadata": {},
   "outputs": [],
   "source": [
    "train_temp = train.copy()\n",
    "ss = StandardScaler()\n",
    "train_scaled = ss.fit_transform(train)"
   ]
  },
  {
   "cell_type": "code",
   "execution_count": 20,
   "metadata": {
    "scrolled": true
   },
   "outputs": [
    {
     "name": "stdout",
     "output_type": "stream",
     "text": [
      "Fitting 5 folds for each of 10 candidates, totalling 50 fits\n",
      "[CV] n_estimators=1200, min_samples_split=5, min_samples_leaf=2, max_features=auto, max_depth=30 \n"
     ]
    },
    {
     "name": "stderr",
     "output_type": "stream",
     "text": [
      "[Parallel(n_jobs=1)]: Using backend SequentialBackend with 1 concurrent workers.\n"
     ]
    },
    {
     "name": "stdout",
     "output_type": "stream",
     "text": [
      "[CV]  n_estimators=1200, min_samples_split=5, min_samples_leaf=2, max_features=auto, max_depth=30, total=   4.8s\n",
      "[CV] n_estimators=1200, min_samples_split=5, min_samples_leaf=2, max_features=auto, max_depth=30 \n"
     ]
    },
    {
     "name": "stderr",
     "output_type": "stream",
     "text": [
      "[Parallel(n_jobs=1)]: Done   1 out of   1 | elapsed:    4.7s remaining:    0.0s\n"
     ]
    },
    {
     "name": "stdout",
     "output_type": "stream",
     "text": [
      "[CV]  n_estimators=1200, min_samples_split=5, min_samples_leaf=2, max_features=auto, max_depth=30, total=   4.7s\n",
      "[CV] n_estimators=1200, min_samples_split=5, min_samples_leaf=2, max_features=auto, max_depth=30 \n",
      "[CV]  n_estimators=1200, min_samples_split=5, min_samples_leaf=2, max_features=auto, max_depth=30, total=   4.7s\n",
      "[CV] n_estimators=1200, min_samples_split=5, min_samples_leaf=2, max_features=auto, max_depth=30 \n",
      "[CV]  n_estimators=1200, min_samples_split=5, min_samples_leaf=2, max_features=auto, max_depth=30, total=   4.7s\n",
      "[CV] n_estimators=1200, min_samples_split=5, min_samples_leaf=2, max_features=auto, max_depth=30 \n",
      "[CV]  n_estimators=1200, min_samples_split=5, min_samples_leaf=2, max_features=auto, max_depth=30, total=   4.7s\n",
      "[CV] n_estimators=1066, min_samples_split=2, min_samples_leaf=15, max_features=sqrt, max_depth=8 \n",
      "[CV]  n_estimators=1066, min_samples_split=2, min_samples_leaf=15, max_features=sqrt, max_depth=8, total=   4.4s\n",
      "[CV] n_estimators=1066, min_samples_split=2, min_samples_leaf=15, max_features=sqrt, max_depth=8 \n",
      "[CV]  n_estimators=1066, min_samples_split=2, min_samples_leaf=15, max_features=sqrt, max_depth=8, total=   4.4s\n",
      "[CV] n_estimators=1066, min_samples_split=2, min_samples_leaf=15, max_features=sqrt, max_depth=8 \n",
      "[CV]  n_estimators=1066, min_samples_split=2, min_samples_leaf=15, max_features=sqrt, max_depth=8, total=   4.4s\n",
      "[CV] n_estimators=1066, min_samples_split=2, min_samples_leaf=15, max_features=sqrt, max_depth=8 \n",
      "[CV]  n_estimators=1066, min_samples_split=2, min_samples_leaf=15, max_features=sqrt, max_depth=8, total=   4.4s\n",
      "[CV] n_estimators=1066, min_samples_split=2, min_samples_leaf=15, max_features=sqrt, max_depth=8 \n",
      "[CV]  n_estimators=1066, min_samples_split=2, min_samples_leaf=15, max_features=sqrt, max_depth=8, total=   4.4s\n",
      "[CV] n_estimators=800, min_samples_split=10, min_samples_leaf=5, max_features=sqrt, max_depth=8 \n",
      "[CV]  n_estimators=800, min_samples_split=10, min_samples_leaf=5, max_features=sqrt, max_depth=8, total=   3.2s\n",
      "[CV] n_estimators=800, min_samples_split=10, min_samples_leaf=5, max_features=sqrt, max_depth=8 \n",
      "[CV]  n_estimators=800, min_samples_split=10, min_samples_leaf=5, max_features=sqrt, max_depth=8, total=   3.2s\n",
      "[CV] n_estimators=800, min_samples_split=10, min_samples_leaf=5, max_features=sqrt, max_depth=8 \n",
      "[CV]  n_estimators=800, min_samples_split=10, min_samples_leaf=5, max_features=sqrt, max_depth=8, total=   3.1s\n",
      "[CV] n_estimators=800, min_samples_split=10, min_samples_leaf=5, max_features=sqrt, max_depth=8 \n",
      "[CV]  n_estimators=800, min_samples_split=10, min_samples_leaf=5, max_features=sqrt, max_depth=8, total=   2.9s\n",
      "[CV] n_estimators=800, min_samples_split=10, min_samples_leaf=5, max_features=sqrt, max_depth=8 \n",
      "[CV]  n_estimators=800, min_samples_split=10, min_samples_leaf=5, max_features=sqrt, max_depth=8, total=   3.0s\n",
      "[CV] n_estimators=533, min_samples_split=5, min_samples_leaf=5, max_features=auto, max_depth=15 \n",
      "[CV]  n_estimators=533, min_samples_split=5, min_samples_leaf=5, max_features=auto, max_depth=15, total=   2.1s\n",
      "[CV] n_estimators=533, min_samples_split=5, min_samples_leaf=5, max_features=auto, max_depth=15 \n",
      "[CV]  n_estimators=533, min_samples_split=5, min_samples_leaf=5, max_features=auto, max_depth=15, total=   2.0s\n",
      "[CV] n_estimators=533, min_samples_split=5, min_samples_leaf=5, max_features=auto, max_depth=15 \n",
      "[CV]  n_estimators=533, min_samples_split=5, min_samples_leaf=5, max_features=auto, max_depth=15, total=   2.0s\n",
      "[CV] n_estimators=533, min_samples_split=5, min_samples_leaf=5, max_features=auto, max_depth=15 \n",
      "[CV]  n_estimators=533, min_samples_split=5, min_samples_leaf=5, max_features=auto, max_depth=15, total=   2.1s\n",
      "[CV] n_estimators=533, min_samples_split=5, min_samples_leaf=5, max_features=auto, max_depth=15 \n",
      "[CV]  n_estimators=533, min_samples_split=5, min_samples_leaf=5, max_features=auto, max_depth=15, total=   2.4s\n",
      "[CV] n_estimators=933, min_samples_split=5, min_samples_leaf=10, max_features=auto, max_depth=1 \n",
      "[CV]  n_estimators=933, min_samples_split=5, min_samples_leaf=10, max_features=auto, max_depth=1, total=   3.6s\n",
      "[CV] n_estimators=933, min_samples_split=5, min_samples_leaf=10, max_features=auto, max_depth=1 \n",
      "[CV]  n_estimators=933, min_samples_split=5, min_samples_leaf=10, max_features=auto, max_depth=1, total=   3.2s\n",
      "[CV] n_estimators=933, min_samples_split=5, min_samples_leaf=10, max_features=auto, max_depth=1 \n",
      "[CV]  n_estimators=933, min_samples_split=5, min_samples_leaf=10, max_features=auto, max_depth=1, total=   3.4s\n",
      "[CV] n_estimators=933, min_samples_split=5, min_samples_leaf=10, max_features=auto, max_depth=1 \n",
      "[CV]  n_estimators=933, min_samples_split=5, min_samples_leaf=10, max_features=auto, max_depth=1, total=   3.5s\n",
      "[CV] n_estimators=933, min_samples_split=5, min_samples_leaf=10, max_features=auto, max_depth=1 \n",
      "[CV]  n_estimators=933, min_samples_split=5, min_samples_leaf=10, max_features=auto, max_depth=1, total=   3.2s\n",
      "[CV] n_estimators=1200, min_samples_split=5, min_samples_leaf=10, max_features=sqrt, max_depth=30 \n",
      "[CV]  n_estimators=1200, min_samples_split=5, min_samples_leaf=10, max_features=sqrt, max_depth=30, total=   4.6s\n",
      "[CV] n_estimators=1200, min_samples_split=5, min_samples_leaf=10, max_features=sqrt, max_depth=30 \n",
      "[CV]  n_estimators=1200, min_samples_split=5, min_samples_leaf=10, max_features=sqrt, max_depth=30, total=   4.5s\n",
      "[CV] n_estimators=1200, min_samples_split=5, min_samples_leaf=10, max_features=sqrt, max_depth=30 \n",
      "[CV]  n_estimators=1200, min_samples_split=5, min_samples_leaf=10, max_features=sqrt, max_depth=30, total=   4.6s\n",
      "[CV] n_estimators=1200, min_samples_split=5, min_samples_leaf=10, max_features=sqrt, max_depth=30 \n",
      "[CV]  n_estimators=1200, min_samples_split=5, min_samples_leaf=10, max_features=sqrt, max_depth=30, total=   4.4s\n",
      "[CV] n_estimators=1200, min_samples_split=5, min_samples_leaf=10, max_features=sqrt, max_depth=30 \n",
      "[CV]  n_estimators=1200, min_samples_split=5, min_samples_leaf=10, max_features=sqrt, max_depth=30, total=   4.4s\n",
      "[CV] n_estimators=1, min_samples_split=5, min_samples_leaf=5, max_features=auto, max_depth=30 \n",
      "[CV]  n_estimators=1, min_samples_split=5, min_samples_leaf=5, max_features=auto, max_depth=30, total=   0.0s\n",
      "[CV] n_estimators=1, min_samples_split=5, min_samples_leaf=5, max_features=auto, max_depth=30 \n",
      "[CV]  n_estimators=1, min_samples_split=5, min_samples_leaf=5, max_features=auto, max_depth=30, total=   0.0s\n",
      "[CV] n_estimators=1, min_samples_split=5, min_samples_leaf=5, max_features=auto, max_depth=30 \n",
      "[CV]  n_estimators=1, min_samples_split=5, min_samples_leaf=5, max_features=auto, max_depth=30, total=   0.0s\n",
      "[CV] n_estimators=1, min_samples_split=5, min_samples_leaf=5, max_features=auto, max_depth=30 \n",
      "[CV]  n_estimators=1, min_samples_split=5, min_samples_leaf=5, max_features=auto, max_depth=30, total=   0.0s\n",
      "[CV] n_estimators=1, min_samples_split=5, min_samples_leaf=5, max_features=auto, max_depth=30 \n",
      "[CV]  n_estimators=1, min_samples_split=5, min_samples_leaf=5, max_features=auto, max_depth=30, total=   0.0s\n",
      "[CV] n_estimators=400, min_samples_split=10, min_samples_leaf=5, max_features=auto, max_depth=22 \n",
      "[CV]  n_estimators=400, min_samples_split=10, min_samples_leaf=5, max_features=auto, max_depth=22, total=   1.5s\n",
      "[CV] n_estimators=400, min_samples_split=10, min_samples_leaf=5, max_features=auto, max_depth=22 \n",
      "[CV]  n_estimators=400, min_samples_split=10, min_samples_leaf=5, max_features=auto, max_depth=22, total=   1.4s\n",
      "[CV] n_estimators=400, min_samples_split=10, min_samples_leaf=5, max_features=auto, max_depth=22 \n",
      "[CV]  n_estimators=400, min_samples_split=10, min_samples_leaf=5, max_features=auto, max_depth=22, total=   1.5s\n",
      "[CV] n_estimators=400, min_samples_split=10, min_samples_leaf=5, max_features=auto, max_depth=22 \n",
      "[CV]  n_estimators=400, min_samples_split=10, min_samples_leaf=5, max_features=auto, max_depth=22, total=   1.5s\n",
      "[CV] n_estimators=400, min_samples_split=10, min_samples_leaf=5, max_features=auto, max_depth=22 \n",
      "[CV]  n_estimators=400, min_samples_split=10, min_samples_leaf=5, max_features=auto, max_depth=22, total=   1.4s\n",
      "[CV] n_estimators=1, min_samples_split=2, min_samples_leaf=2, max_features=sqrt, max_depth=22 \n",
      "[CV]  n_estimators=1, min_samples_split=2, min_samples_leaf=2, max_features=sqrt, max_depth=22, total=   0.0s\n",
      "[CV] n_estimators=1, min_samples_split=2, min_samples_leaf=2, max_features=sqrt, max_depth=22 \n",
      "[CV]  n_estimators=1, min_samples_split=2, min_samples_leaf=2, max_features=sqrt, max_depth=22, total=   0.0s\n",
      "[CV] n_estimators=1, min_samples_split=2, min_samples_leaf=2, max_features=sqrt, max_depth=22 \n",
      "[CV]  n_estimators=1, min_samples_split=2, min_samples_leaf=2, max_features=sqrt, max_depth=22, total=   0.0s\n",
      "[CV] n_estimators=1, min_samples_split=2, min_samples_leaf=2, max_features=sqrt, max_depth=22 \n",
      "[CV]  n_estimators=1, min_samples_split=2, min_samples_leaf=2, max_features=sqrt, max_depth=22, total=   0.0s\n",
      "[CV] n_estimators=1, min_samples_split=2, min_samples_leaf=2, max_features=sqrt, max_depth=22 \n",
      "[CV]  n_estimators=1, min_samples_split=2, min_samples_leaf=2, max_features=sqrt, max_depth=22, total=   0.0s\n",
      "[CV] n_estimators=134, min_samples_split=5, min_samples_leaf=2, max_features=sqrt, max_depth=1 \n"
     ]
    },
    {
     "name": "stdout",
     "output_type": "stream",
     "text": [
      "[CV]  n_estimators=134, min_samples_split=5, min_samples_leaf=2, max_features=sqrt, max_depth=1, total=   0.5s\n",
      "[CV] n_estimators=134, min_samples_split=5, min_samples_leaf=2, max_features=sqrt, max_depth=1 \n",
      "[CV]  n_estimators=134, min_samples_split=5, min_samples_leaf=2, max_features=sqrt, max_depth=1, total=   0.5s\n",
      "[CV] n_estimators=134, min_samples_split=5, min_samples_leaf=2, max_features=sqrt, max_depth=1 \n",
      "[CV]  n_estimators=134, min_samples_split=5, min_samples_leaf=2, max_features=sqrt, max_depth=1, total=   0.5s\n",
      "[CV] n_estimators=134, min_samples_split=5, min_samples_leaf=2, max_features=sqrt, max_depth=1 \n",
      "[CV]  n_estimators=134, min_samples_split=5, min_samples_leaf=2, max_features=sqrt, max_depth=1, total=   0.4s\n",
      "[CV] n_estimators=134, min_samples_split=5, min_samples_leaf=2, max_features=sqrt, max_depth=1 \n",
      "[CV]  n_estimators=134, min_samples_split=5, min_samples_leaf=2, max_features=sqrt, max_depth=1, total=   0.5s\n"
     ]
    },
    {
     "name": "stderr",
     "output_type": "stream",
     "text": [
      "[Parallel(n_jobs=1)]: Done  50 out of  50 | elapsed:  2.0min finished\n"
     ]
    },
    {
     "data": {
      "text/plain": [
       "RandomizedSearchCV(cv=5, estimator=RandomForestClassifier(),\n",
       "                   param_distributions={'max_depth': [1, 8, 15, 22, 30],\n",
       "                                        'max_features': ['auto', 'sqrt'],\n",
       "                                        'min_samples_leaf': [2, 5, 10, 15],\n",
       "                                        'min_samples_split': [2, 5, 10, 15],\n",
       "                                        'n_estimators': [1, 134, 267, 400, 533,\n",
       "                                                         667, 800, 933, 1066,\n",
       "                                                         1200]},\n",
       "                   scoring='accuracy', verbose=2)"
      ]
     },
     "execution_count": 20,
     "metadata": {},
     "output_type": "execute_result"
    }
   ],
   "source": [
    "r_est = RandomizedSearchCV(RandomForestClassifier(),param_distributions=tree_params,cv = 5,n_iter=10,verbose=2,scoring='accuracy',\n",
    "                          return_train_score=False)\n",
    "r_est.fit(train_scaled,test)"
   ]
  },
  {
   "cell_type": "code",
   "execution_count": 21,
   "metadata": {},
   "outputs": [
    {
     "data": {
      "text/plain": [
       "0.8414754098360655"
      ]
     },
     "execution_count": 21,
     "metadata": {},
     "output_type": "execute_result"
    }
   ],
   "source": [
    "r_est.best_score_"
   ]
  },
  {
   "cell_type": "raw",
   "metadata": {},
   "source": [
    "  penalty='l2',\n",
    "    dual=False,\n",
    "    tol=0.0001,\n",
    "    C=1.0,\n",
    "    fit_intercept=True,\n",
    "    intercept_scaling=1,\n",
    "    class_weight=None,\n",
    "    random_state=None,\n",
    "    solver='lbfgs',\n",
    "    max_iter=100,\n",
    "    multi_class='auto',\n",
    "    verbose=0,\n",
    "    warm_start=False,\n",
    "    n_jobs=None,\n",
    "    l1_ratio=None,"
   ]
  },
  {
   "cell_type": "code",
   "execution_count": 22,
   "metadata": {},
   "outputs": [],
   "source": [
    "model_params = {\n",
    "    'logistic':{\n",
    "        'model': LogisticRegression(),\n",
    "        'params':{\n",
    "            'C' : [0.25,0.50,0.75,1.0],\n",
    "            'tol':[1e-15,1e-10,1e-5,0.001,0.00,0.25],\n",
    "            'solver':['saga','lbfgs'],\n",
    "            'max_iter':[int(x) for x in np.linspace(start=1,stop=200,num=10)]\n",
    "        }\n",
    "    },\n",
    "    'SVM':{\n",
    "        'model': SVC(gamma='auto'),\n",
    "        'params':{\n",
    "            'C':[0.25,0.50,0.75,1.0],\n",
    "            'kernel':['linear','poly','sigmoid'],\n",
    "        }\n",
    "    }\n",
    "}"
   ]
  },
  {
   "cell_type": "code",
   "execution_count": 23,
   "metadata": {},
   "outputs": [
    {
     "name": "stdout",
     "output_type": "stream",
     "text": [
      "Fitting 5 folds for each of 10 candidates, totalling 50 fits\n",
      "[CV] tol=1e-10, solver=lbfgs, max_iter=177, C=0.5 ....................\n",
      "[CV] ..... tol=1e-10, solver=lbfgs, max_iter=177, C=0.5, total=   0.1s\n",
      "[CV] tol=1e-10, solver=lbfgs, max_iter=177, C=0.5 ....................\n",
      "[CV] ..... tol=1e-10, solver=lbfgs, max_iter=177, C=0.5, total=   0.0s\n",
      "[CV] tol=1e-10, solver=lbfgs, max_iter=177, C=0.5 ....................\n",
      "[CV] ..... tol=1e-10, solver=lbfgs, max_iter=177, C=0.5, total=   0.0s\n",
      "[CV] tol=1e-10, solver=lbfgs, max_iter=177, C=0.5 ....................\n",
      "[CV] ..... tol=1e-10, solver=lbfgs, max_iter=177, C=0.5, total=   0.0s\n",
      "[CV] tol=1e-10, solver=lbfgs, max_iter=177, C=0.5 ....................\n",
      "[CV] ..... tol=1e-10, solver=lbfgs, max_iter=177, C=0.5, total=   0.0s\n",
      "[CV] tol=0.25, solver=lbfgs, max_iter=1, C=1.0 .......................\n",
      "[CV] ........ tol=0.25, solver=lbfgs, max_iter=1, C=1.0, total=   0.0s\n",
      "[CV] tol=0.25, solver=lbfgs, max_iter=1, C=1.0 .......................\n",
      "[CV] ........ tol=0.25, solver=lbfgs, max_iter=1, C=1.0, total=   0.0s\n",
      "[CV] tol=0.25, solver=lbfgs, max_iter=1, C=1.0 .......................\n",
      "[CV] ........ tol=0.25, solver=lbfgs, max_iter=1, C=1.0, total=   0.0s\n",
      "[CV] tol=0.25, solver=lbfgs, max_iter=1, C=1.0 .......................\n",
      "[CV] ........ tol=0.25, solver=lbfgs, max_iter=1, C=1.0, total=   0.0s\n",
      "[CV] tol=0.25, solver=lbfgs, max_iter=1, C=1.0 .......................\n",
      "[CV] ........ tol=0.25, solver=lbfgs, max_iter=1, C=1.0, total=   0.0s\n",
      "[CV] tol=0.25, solver=saga, max_iter=67, C=0.5 .......................\n",
      "[CV] ........ tol=0.25, solver=saga, max_iter=67, C=0.5, total=   0.0s\n",
      "[CV] tol=0.25, solver=saga, max_iter=67, C=0.5 .......................\n",
      "[CV] ........ tol=0.25, solver=saga, max_iter=67, C=0.5, total=   0.0s\n",
      "[CV] tol=0.25, solver=saga, max_iter=67, C=0.5 .......................\n",
      "[CV] ........ tol=0.25, solver=saga, max_iter=67, C=0.5, total=   0.0s\n",
      "[CV] tol=0.25, solver=saga, max_iter=67, C=0.5 .......................\n",
      "[CV] ........ tol=0.25, solver=saga, max_iter=67, C=0.5, total=   0.0s\n",
      "[CV] tol=0.25, solver=saga, max_iter=67, C=0.5 .......................\n",
      "[CV] ........ tol=0.25, solver=saga, max_iter=67, C=0.5, total=   0.0s\n",
      "[CV] tol=1e-05, solver=saga, max_iter=23, C=1.0 ......................\n"
     ]
    },
    {
     "name": "stderr",
     "output_type": "stream",
     "text": [
      "[Parallel(n_jobs=1)]: Using backend SequentialBackend with 1 concurrent workers.\n",
      "[Parallel(n_jobs=1)]: Done   1 out of   1 | elapsed:    0.0s remaining:    0.0s\n",
      "c:\\users\\meet\\appdata\\local\\programs\\python\\python38-32\\lib\\site-packages\\sklearn\\linear_model\\_logistic.py:762: ConvergenceWarning: lbfgs failed to converge (status=1):\n",
      "STOP: TOTAL NO. of ITERATIONS REACHED LIMIT.\n",
      "\n",
      "Increase the number of iterations (max_iter) or scale the data as shown in:\n",
      "    https://scikit-learn.org/stable/modules/preprocessing.html\n",
      "Please also refer to the documentation for alternative solver options:\n",
      "    https://scikit-learn.org/stable/modules/linear_model.html#logistic-regression\n",
      "  n_iter_i = _check_optimize_result(\n",
      "c:\\users\\meet\\appdata\\local\\programs\\python\\python38-32\\lib\\site-packages\\sklearn\\linear_model\\_logistic.py:762: ConvergenceWarning: lbfgs failed to converge (status=1):\n",
      "STOP: TOTAL NO. of ITERATIONS REACHED LIMIT.\n",
      "\n",
      "Increase the number of iterations (max_iter) or scale the data as shown in:\n",
      "    https://scikit-learn.org/stable/modules/preprocessing.html\n",
      "Please also refer to the documentation for alternative solver options:\n",
      "    https://scikit-learn.org/stable/modules/linear_model.html#logistic-regression\n",
      "  n_iter_i = _check_optimize_result(\n",
      "c:\\users\\meet\\appdata\\local\\programs\\python\\python38-32\\lib\\site-packages\\sklearn\\linear_model\\_logistic.py:762: ConvergenceWarning: lbfgs failed to converge (status=1):\n",
      "STOP: TOTAL NO. of ITERATIONS REACHED LIMIT.\n",
      "\n",
      "Increase the number of iterations (max_iter) or scale the data as shown in:\n",
      "    https://scikit-learn.org/stable/modules/preprocessing.html\n",
      "Please also refer to the documentation for alternative solver options:\n",
      "    https://scikit-learn.org/stable/modules/linear_model.html#logistic-regression\n",
      "  n_iter_i = _check_optimize_result(\n",
      "c:\\users\\meet\\appdata\\local\\programs\\python\\python38-32\\lib\\site-packages\\sklearn\\linear_model\\_logistic.py:762: ConvergenceWarning: lbfgs failed to converge (status=1):\n",
      "STOP: TOTAL NO. of ITERATIONS REACHED LIMIT.\n",
      "\n",
      "Increase the number of iterations (max_iter) or scale the data as shown in:\n",
      "    https://scikit-learn.org/stable/modules/preprocessing.html\n",
      "Please also refer to the documentation for alternative solver options:\n",
      "    https://scikit-learn.org/stable/modules/linear_model.html#logistic-regression\n",
      "  n_iter_i = _check_optimize_result(\n",
      "c:\\users\\meet\\appdata\\local\\programs\\python\\python38-32\\lib\\site-packages\\sklearn\\linear_model\\_logistic.py:762: ConvergenceWarning: lbfgs failed to converge (status=1):\n",
      "STOP: TOTAL NO. of ITERATIONS REACHED LIMIT.\n",
      "\n",
      "Increase the number of iterations (max_iter) or scale the data as shown in:\n",
      "    https://scikit-learn.org/stable/modules/preprocessing.html\n",
      "Please also refer to the documentation for alternative solver options:\n",
      "    https://scikit-learn.org/stable/modules/linear_model.html#logistic-regression\n",
      "  n_iter_i = _check_optimize_result(\n",
      "c:\\users\\meet\\appdata\\local\\programs\\python\\python38-32\\lib\\site-packages\\sklearn\\linear_model\\_sag.py:329: ConvergenceWarning: The max_iter was reached which means the coef_ did not converge\n",
      "  warnings.warn(\"The max_iter was reached which means \"\n",
      "c:\\users\\meet\\appdata\\local\\programs\\python\\python38-32\\lib\\site-packages\\sklearn\\linear_model\\_sag.py:329: ConvergenceWarning: The max_iter was reached which means the coef_ did not converge\n",
      "  warnings.warn(\"The max_iter was reached which means \"\n",
      "c:\\users\\meet\\appdata\\local\\programs\\python\\python38-32\\lib\\site-packages\\sklearn\\linear_model\\_sag.py:329: ConvergenceWarning: The max_iter was reached which means the coef_ did not converge\n",
      "  warnings.warn(\"The max_iter was reached which means \"\n",
      "c:\\users\\meet\\appdata\\local\\programs\\python\\python38-32\\lib\\site-packages\\sklearn\\linear_model\\_sag.py:329: ConvergenceWarning: The max_iter was reached which means the coef_ did not converge\n",
      "  warnings.warn(\"The max_iter was reached which means \"\n"
     ]
    },
    {
     "name": "stdout",
     "output_type": "stream",
     "text": [
      "[CV] ....... tol=1e-05, solver=saga, max_iter=23, C=1.0, total=   0.1s\n",
      "[CV] tol=1e-05, solver=saga, max_iter=23, C=1.0 ......................\n",
      "[CV] ....... tol=1e-05, solver=saga, max_iter=23, C=1.0, total=   0.0s\n",
      "[CV] tol=1e-05, solver=saga, max_iter=23, C=1.0 ......................\n",
      "[CV] ....... tol=1e-05, solver=saga, max_iter=23, C=1.0, total=   0.0s\n",
      "[CV] tol=1e-05, solver=saga, max_iter=23, C=1.0 ......................\n",
      "[CV] ....... tol=1e-05, solver=saga, max_iter=23, C=1.0, total=   0.0s\n",
      "[CV] tol=1e-05, solver=saga, max_iter=23, C=1.0 ......................\n",
      "[CV] ....... tol=1e-05, solver=saga, max_iter=23, C=1.0, total=   0.0s\n",
      "[CV] tol=1e-05, solver=lbfgs, max_iter=200, C=0.75 ...................\n",
      "[CV] .... tol=1e-05, solver=lbfgs, max_iter=200, C=0.75, total=   0.0s\n",
      "[CV] tol=1e-05, solver=lbfgs, max_iter=200, C=0.75 ...................\n",
      "[CV] .... tol=1e-05, solver=lbfgs, max_iter=200, C=0.75, total=   0.0s\n",
      "[CV] tol=1e-05, solver=lbfgs, max_iter=200, C=0.75 ...................\n",
      "[CV] .... tol=1e-05, solver=lbfgs, max_iter=200, C=0.75, total=   0.0s\n",
      "[CV] tol=1e-05, solver=lbfgs, max_iter=200, C=0.75 ...................\n",
      "[CV] .... tol=1e-05, solver=lbfgs, max_iter=200, C=0.75, total=   0.0s\n",
      "[CV] tol=1e-05, solver=lbfgs, max_iter=200, C=0.75 ...................\n",
      "[CV] .... tol=1e-05, solver=lbfgs, max_iter=200, C=0.75, total=   0.0s\n",
      "[CV] tol=1e-10, solver=saga, max_iter=89, C=0.25 .....................\n",
      "[CV] ...... tol=1e-10, solver=saga, max_iter=89, C=0.25, total=   0.0s\n",
      "[CV] tol=1e-10, solver=saga, max_iter=89, C=0.25 .....................\n",
      "[CV] ...... tol=1e-10, solver=saga, max_iter=89, C=0.25, total=   0.0s\n",
      "[CV] tol=1e-10, solver=saga, max_iter=89, C=0.25 .....................\n",
      "[CV] ...... tol=1e-10, solver=saga, max_iter=89, C=0.25, total=   0.0s\n",
      "[CV] tol=1e-10, solver=saga, max_iter=89, C=0.25 .....................\n",
      "[CV] ...... tol=1e-10, solver=saga, max_iter=89, C=0.25, total=   0.0s\n",
      "[CV] tol=1e-10, solver=saga, max_iter=89, C=0.25 .....................\n",
      "[CV] ...... tol=1e-10, solver=saga, max_iter=89, C=0.25, total=   0.0s\n",
      "[CV] tol=0.001, solver=lbfgs, max_iter=23, C=0.75 ....................\n",
      "[CV] ..... tol=0.001, solver=lbfgs, max_iter=23, C=0.75, total=   0.0s\n",
      "[CV] tol=0.001, solver=lbfgs, max_iter=23, C=0.75 ....................\n",
      "[CV] ..... tol=0.001, solver=lbfgs, max_iter=23, C=0.75, total=   0.0s\n",
      "[CV] tol=0.001, solver=lbfgs, max_iter=23, C=0.75 ....................\n",
      "[CV] ..... tol=0.001, solver=lbfgs, max_iter=23, C=0.75, total=   0.0s\n",
      "[CV] tol=0.001, solver=lbfgs, max_iter=23, C=0.75 ....................\n",
      "[CV] ..... tol=0.001, solver=lbfgs, max_iter=23, C=0.75, total=   0.0s\n",
      "[CV] tol=0.001, solver=lbfgs, max_iter=23, C=0.75 ....................\n",
      "[CV] ..... tol=0.001, solver=lbfgs, max_iter=23, C=0.75, total=   0.0s\n",
      "[CV] tol=0.001, solver=lbfgs, max_iter=67, C=0.25 ....................\n",
      "[CV] ..... tol=0.001, solver=lbfgs, max_iter=67, C=0.25, total=   0.0s\n",
      "[CV] tol=0.001, solver=lbfgs, max_iter=67, C=0.25 ....................\n",
      "[CV] ..... tol=0.001, solver=lbfgs, max_iter=67, C=0.25, total=   0.0s\n",
      "[CV] tol=0.001, solver=lbfgs, max_iter=67, C=0.25 ....................\n",
      "[CV] ..... tol=0.001, solver=lbfgs, max_iter=67, C=0.25, total=   0.0s\n",
      "[CV] tol=0.001, solver=lbfgs, max_iter=67, C=0.25 ....................\n",
      "[CV] ..... tol=0.001, solver=lbfgs, max_iter=67, C=0.25, total=   0.0s\n",
      "[CV] tol=0.001, solver=lbfgs, max_iter=67, C=0.25 ....................\n",
      "[CV] ..... tol=0.001, solver=lbfgs, max_iter=67, C=0.25, total=   0.0s\n",
      "[CV] tol=1e-05, solver=lbfgs, max_iter=45, C=0.5 .....................\n",
      "[CV] ...... tol=1e-05, solver=lbfgs, max_iter=45, C=0.5, total=   0.0s\n",
      "[CV] tol=1e-05, solver=lbfgs, max_iter=45, C=0.5 .....................\n",
      "[CV] ...... tol=1e-05, solver=lbfgs, max_iter=45, C=0.5, total=   0.0s\n",
      "[CV] tol=1e-05, solver=lbfgs, max_iter=45, C=0.5 .....................\n",
      "[CV] ...... tol=1e-05, solver=lbfgs, max_iter=45, C=0.5, total=   0.0s\n",
      "[CV] tol=1e-05, solver=lbfgs, max_iter=45, C=0.5 .....................\n",
      "[CV] ...... tol=1e-05, solver=lbfgs, max_iter=45, C=0.5, total=   0.0s\n",
      "[CV] tol=1e-05, solver=lbfgs, max_iter=45, C=0.5 .....................\n",
      "[CV] ...... tol=1e-05, solver=lbfgs, max_iter=45, C=0.5, total=   0.0s\n",
      "[CV] tol=0.001, solver=lbfgs, max_iter=23, C=1.0 .....................\n",
      "[CV] ...... tol=0.001, solver=lbfgs, max_iter=23, C=1.0, total=   0.0s\n",
      "[CV] tol=0.001, solver=lbfgs, max_iter=23, C=1.0 .....................\n",
      "[CV] ...... tol=0.001, solver=lbfgs, max_iter=23, C=1.0, total=   0.0s\n",
      "[CV] tol=0.001, solver=lbfgs, max_iter=23, C=1.0 .....................\n",
      "[CV] ...... tol=0.001, solver=lbfgs, max_iter=23, C=1.0, total=   0.0s\n",
      "[CV] tol=0.001, solver=lbfgs, max_iter=23, C=1.0 .....................\n",
      "[CV] ...... tol=0.001, solver=lbfgs, max_iter=23, C=1.0, total=   0.0s\n",
      "[CV] tol=0.001, solver=lbfgs, max_iter=23, C=1.0 .....................\n",
      "[CV] ...... tol=0.001, solver=lbfgs, max_iter=23, C=1.0, total=   0.0s\n",
      "Fitting 5 folds for each of 10 candidates, totalling 50 fits\n",
      "[CV] kernel=poly, C=1.0 ..............................................\n",
      "[CV] ............................... kernel=poly, C=1.0, total=   0.0s\n",
      "[CV] kernel=poly, C=1.0 ..............................................\n",
      "[CV] ............................... kernel=poly, C=1.0, total=   0.0s\n",
      "[CV] kernel=poly, C=1.0 ..............................................\n",
      "[CV] ............................... kernel=poly, C=1.0, total=   0.0s\n",
      "[CV] kernel=poly, C=1.0 ..............................................\n",
      "[CV] ............................... kernel=poly, C=1.0, total=   0.0s\n",
      "[CV] kernel=poly, C=1.0 ..............................................\n",
      "[CV] ............................... kernel=poly, C=1.0, total=   0.0s\n",
      "[CV] kernel=poly, C=0.25 .............................................\n",
      "[CV] .............................. kernel=poly, C=0.25, total=   0.0s\n",
      "[CV] kernel=poly, C=0.25 .............................................\n",
      "[CV] .............................. kernel=poly, C=0.25, total=   0.0s\n",
      "[CV] kernel=poly, C=0.25 .............................................\n",
      "[CV] .............................. kernel=poly, C=0.25, total=   0.0s\n",
      "[CV] kernel=poly, C=0.25 .............................................\n",
      "[CV] .............................. kernel=poly, C=0.25, total=   0.0s"
     ]
    },
    {
     "name": "stderr",
     "output_type": "stream",
     "text": [
      "[Parallel(n_jobs=1)]: Done  50 out of  50 | elapsed:    0.5s finished\n",
      "c:\\users\\meet\\appdata\\local\\programs\\python\\python38-32\\lib\\site-packages\\sklearn\\linear_model\\_sag.py:329: ConvergenceWarning: The max_iter was reached which means the coef_ did not converge\n",
      "  warnings.warn(\"The max_iter was reached which means \"\n",
      "[Parallel(n_jobs=1)]: Using backend SequentialBackend with 1 concurrent workers.\n",
      "[Parallel(n_jobs=1)]: Done   1 out of   1 | elapsed:    0.0s remaining:    0.0s\n"
     ]
    },
    {
     "name": "stdout",
     "output_type": "stream",
     "text": [
      "\n",
      "[CV] kernel=poly, C=0.25 .............................................\n",
      "[CV] .............................. kernel=poly, C=0.25, total=   0.0s\n",
      "[CV] kernel=poly, C=0.75 .............................................\n",
      "[CV] .............................. kernel=poly, C=0.75, total=   0.0s\n",
      "[CV] kernel=poly, C=0.75 .............................................\n",
      "[CV] .............................. kernel=poly, C=0.75, total=   0.0s\n",
      "[CV] kernel=poly, C=0.75 .............................................\n",
      "[CV] .............................. kernel=poly, C=0.75, total=   0.0s\n",
      "[CV] kernel=poly, C=0.75 .............................................\n",
      "[CV] .............................. kernel=poly, C=0.75, total=   0.0s\n",
      "[CV] kernel=poly, C=0.75 .............................................\n",
      "[CV] .............................. kernel=poly, C=0.75, total=   0.0s\n",
      "[CV] kernel=sigmoid, C=1.0 ...........................................\n",
      "[CV] ............................ kernel=sigmoid, C=1.0, total=   0.0s\n",
      "[CV] kernel=sigmoid, C=1.0 ...........................................\n",
      "[CV] ............................ kernel=sigmoid, C=1.0, total=   0.0s\n",
      "[CV] kernel=sigmoid, C=1.0 ...........................................\n",
      "[CV] ............................ kernel=sigmoid, C=1.0, total=   0.0s\n",
      "[CV] kernel=sigmoid, C=1.0 ...........................................\n",
      "[CV] ............................ kernel=sigmoid, C=1.0, total=   0.0s\n",
      "[CV] kernel=sigmoid, C=1.0 ...........................................\n",
      "[CV] ............................ kernel=sigmoid, C=1.0, total=   0.0s\n",
      "[CV] kernel=sigmoid, C=0.75 ..........................................\n",
      "[CV] ........................... kernel=sigmoid, C=0.75, total=   0.0s\n",
      "[CV] kernel=sigmoid, C=0.75 ..........................................\n",
      "[CV] ........................... kernel=sigmoid, C=0.75, total=   0.0s\n",
      "[CV] kernel=sigmoid, C=0.75 ..........................................\n",
      "[CV] ........................... kernel=sigmoid, C=0.75, total=   0.0s\n",
      "[CV] kernel=sigmoid, C=0.75 ..........................................\n",
      "[CV] ........................... kernel=sigmoid, C=0.75, total=   0.0s\n",
      "[CV] kernel=sigmoid, C=0.75 ..........................................\n",
      "[CV] ........................... kernel=sigmoid, C=0.75, total=   0.0s\n",
      "[CV] kernel=linear, C=0.5 ............................................\n",
      "[CV] ............................. kernel=linear, C=0.5, total=   0.0s\n",
      "[CV] kernel=linear, C=0.5 ............................................\n",
      "[CV] ............................. kernel=linear, C=0.5, total=   0.0s\n",
      "[CV] kernel=linear, C=0.5 ............................................\n",
      "[CV] ............................. kernel=linear, C=0.5, total=   0.0s\n",
      "[CV] kernel=linear, C=0.5 ............................................\n",
      "[CV] ............................. kernel=linear, C=0.5, total=   0.0s\n",
      "[CV] kernel=linear, C=0.5 ............................................\n",
      "[CV] ............................. kernel=linear, C=0.5, total=   0.0s\n",
      "[CV] kernel=linear, C=0.75 ...........................................\n",
      "[CV] ............................ kernel=linear, C=0.75, total=   0.0s\n",
      "[CV] kernel=linear, C=0.75 ...........................................\n",
      "[CV] ............................ kernel=linear, C=0.75, total=   0.0s\n",
      "[CV] kernel=linear, C=0.75 ...........................................\n",
      "[CV] ............................ kernel=linear, C=0.75, total=   0.0s\n",
      "[CV] kernel=linear, C=0.75 ...........................................\n",
      "[CV] ............................ kernel=linear, C=0.75, total=   0.0s\n",
      "[CV] kernel=linear, C=0.75 ...........................................\n",
      "[CV] ............................ kernel=linear, C=0.75, total=   0.0s\n",
      "[CV] kernel=linear, C=0.25 ...........................................\n",
      "[CV] ............................ kernel=linear, C=0.25, total=   0.0s\n",
      "[CV] kernel=linear, C=0.25 ...........................................\n",
      "[CV] ............................ kernel=linear, C=0.25, total=   0.0s\n",
      "[CV] kernel=linear, C=0.25 ...........................................\n",
      "[CV] ............................ kernel=linear, C=0.25, total=   0.0s\n",
      "[CV] kernel=linear, C=0.25 ...........................................\n",
      "[CV] ............................ kernel=linear, C=0.25, total=   0.0s\n",
      "[CV] kernel=linear, C=0.25 ...........................................\n",
      "[CV] ............................ kernel=linear, C=0.25, total=   0.0s\n",
      "[CV] kernel=linear, C=1.0 ............................................\n",
      "[CV] ............................. kernel=linear, C=1.0, total=   0.0s\n",
      "[CV] kernel=linear, C=1.0 ............................................\n",
      "[CV] ............................. kernel=linear, C=1.0, total=   0.0s\n",
      "[CV] kernel=linear, C=1.0 ............................................\n",
      "[CV] ............................. kernel=linear, C=1.0, total=   0.0s\n",
      "[CV] kernel=linear, C=1.0 ............................................\n",
      "[CV] ............................. kernel=linear, C=1.0, total=   0.0s\n",
      "[CV] kernel=linear, C=1.0 ............................................\n",
      "[CV] ............................. kernel=linear, C=1.0, total=   0.0s\n",
      "[CV] kernel=sigmoid, C=0.5 ...........................................\n",
      "[CV] ............................ kernel=sigmoid, C=0.5, total=   0.0s\n",
      "[CV] kernel=sigmoid, C=0.5 ...........................................\n",
      "[CV] ............................ kernel=sigmoid, C=0.5, total=   0.0s\n",
      "[CV] kernel=sigmoid, C=0.5 ...........................................\n",
      "[CV] ............................ kernel=sigmoid, C=0.5, total=   0.0s\n",
      "[CV] kernel=sigmoid, C=0.5 ...........................................\n",
      "[CV] ............................ kernel=sigmoid, C=0.5, total=   0.0s\n",
      "[CV] kernel=sigmoid, C=0.5 ...........................................\n",
      "[CV] ............................ kernel=sigmoid, C=0.5, total=   0.0s\n"
     ]
    },
    {
     "name": "stderr",
     "output_type": "stream",
     "text": [
      "[Parallel(n_jobs=1)]: Done  50 out of  50 | elapsed:    0.5s finished\n"
     ]
    }
   ],
   "source": [
    "scores =[]\n",
    "for model_name,mp in model_params.items():\n",
    "    clf = RandomizedSearchCV(mp['model'],mp['params'],cv = 5,n_iter=10,verbose=2,scoring='accuracy',return_train_score=False)\n",
    "    clf.fit(train_scaled,test)\n",
    "    scores.append({\n",
    "        'model_name': model_name,\n",
    "        'best_score': clf.best_score_,\n",
    "        'best_params': clf.best_params_,\n",
    "        'best_estimator': clf.best_estimator_,\n",
    "    })"
   ]
  },
  {
   "cell_type": "code",
   "execution_count": 24,
   "metadata": {},
   "outputs": [
    {
     "data": {
      "text/html": [
       "<div>\n",
       "<style scoped>\n",
       "    .dataframe tbody tr th:only-of-type {\n",
       "        vertical-align: middle;\n",
       "    }\n",
       "\n",
       "    .dataframe tbody tr th {\n",
       "        vertical-align: top;\n",
       "    }\n",
       "\n",
       "    .dataframe thead th {\n",
       "        text-align: right;\n",
       "    }\n",
       "</style>\n",
       "<table border=\"1\" class=\"dataframe\">\n",
       "  <thead>\n",
       "    <tr style=\"text-align: right;\">\n",
       "      <th></th>\n",
       "      <th>model_name</th>\n",
       "      <th>best_score</th>\n",
       "      <th>best_params</th>\n",
       "      <th>best_estimator</th>\n",
       "    </tr>\n",
       "  </thead>\n",
       "  <tbody>\n",
       "    <tr>\n",
       "      <th>0</th>\n",
       "      <td>logistic</td>\n",
       "      <td>0.834863</td>\n",
       "      <td>{'tol': 1e-05, 'solver': 'saga', 'max_iter': 2...</td>\n",
       "      <td>LogisticRegression(max_iter=23, solver='saga',...</td>\n",
       "    </tr>\n",
       "    <tr>\n",
       "      <th>1</th>\n",
       "      <td>SVM</td>\n",
       "      <td>0.831694</td>\n",
       "      <td>{'kernel': 'linear', 'C': 0.25}</td>\n",
       "      <td>SVC(C=0.25, gamma='auto', kernel='linear')</td>\n",
       "    </tr>\n",
       "  </tbody>\n",
       "</table>\n",
       "</div>"
      ],
      "text/plain": [
       "  model_name  best_score                                        best_params  \\\n",
       "0   logistic    0.834863  {'tol': 1e-05, 'solver': 'saga', 'max_iter': 2...   \n",
       "1        SVM    0.831694                    {'kernel': 'linear', 'C': 0.25}   \n",
       "\n",
       "                                      best_estimator  \n",
       "0  LogisticRegression(max_iter=23, solver='saga',...  \n",
       "1         SVC(C=0.25, gamma='auto', kernel='linear')  "
      ]
     },
     "execution_count": 24,
     "metadata": {},
     "output_type": "execute_result"
    }
   ],
   "source": [
    "modellist = pd.DataFrame(scores,columns=['model_name','best_score','best_params','best_estimator'])\n",
    "modellist"
   ]
  },
  {
   "cell_type": "code",
   "execution_count": 25,
   "metadata": {},
   "outputs": [
    {
     "ename": "ModuleNotFoundError",
     "evalue": "No module named 'pycaret'",
     "output_type": "error",
     "traceback": [
      "\u001b[1;31m---------------------------------------------------------------------------\u001b[0m",
      "\u001b[1;31mModuleNotFoundError\u001b[0m                       Traceback (most recent call last)",
      "\u001b[1;32m<ipython-input-25-a8cb12878b37>\u001b[0m in \u001b[0;36m<module>\u001b[1;34m\u001b[0m\n\u001b[1;32m----> 1\u001b[1;33m \u001b[1;32mfrom\u001b[0m \u001b[0mpycaret\u001b[0m\u001b[1;33m.\u001b[0m\u001b[0mclassification\u001b[0m \u001b[1;32mimport\u001b[0m \u001b[1;33m*\u001b[0m\u001b[1;33m\u001b[0m\u001b[1;33m\u001b[0m\u001b[0m\n\u001b[0m",
      "\u001b[1;31mModuleNotFoundError\u001b[0m: No module named 'pycaret'"
     ]
    }
   ],
   "source": [
    "from pycaret.classification import *"
   ]
  },
  {
   "cell_type": "code",
   "execution_count": 26,
   "metadata": {},
   "outputs": [
    {
     "ename": "NameError",
     "evalue": "name 'setup' is not defined",
     "output_type": "error",
     "traceback": [
      "\u001b[1;31m---------------------------------------------------------------------------\u001b[0m",
      "\u001b[1;31mNameError\u001b[0m                                 Traceback (most recent call last)",
      "\u001b[1;32m<ipython-input-26-1822bc9b5fd9>\u001b[0m in \u001b[0;36m<module>\u001b[1;34m\u001b[0m\n\u001b[1;32m----> 1\u001b[1;33m \u001b[0msetup\u001b[0m\u001b[1;33m(\u001b[0m\u001b[0mdf\u001b[0m\u001b[1;33m,\u001b[0m\u001b[0mtarget\u001b[0m \u001b[1;33m=\u001b[0m \u001b[1;34m'target'\u001b[0m\u001b[1;33m)\u001b[0m\u001b[1;33m\u001b[0m\u001b[1;33m\u001b[0m\u001b[0m\n\u001b[0m",
      "\u001b[1;31mNameError\u001b[0m: name 'setup' is not defined"
     ]
    }
   ],
   "source": [
    "setup(df,target = 'target')"
   ]
  },
  {
   "cell_type": "code",
   "execution_count": 27,
   "metadata": {},
   "outputs": [
    {
     "ename": "NameError",
     "evalue": "name 'compare_models' is not defined",
     "output_type": "error",
     "traceback": [
      "\u001b[1;31m---------------------------------------------------------------------------\u001b[0m",
      "\u001b[1;31mNameError\u001b[0m                                 Traceback (most recent call last)",
      "\u001b[1;32m<ipython-input-27-9ff5ccfe3077>\u001b[0m in \u001b[0;36m<module>\u001b[1;34m\u001b[0m\n\u001b[1;32m----> 1\u001b[1;33m \u001b[0mcompare_models\u001b[0m\u001b[1;33m(\u001b[0m\u001b[1;33m)\u001b[0m\u001b[1;33m\u001b[0m\u001b[1;33m\u001b[0m\u001b[0m\n\u001b[0m",
      "\u001b[1;31mNameError\u001b[0m: name 'compare_models' is not defined"
     ]
    }
   ],
   "source": [
    "compare_models()"
   ]
  },
  {
   "cell_type": "code",
   "execution_count": 28,
   "metadata": {},
   "outputs": [
    {
     "data": {
      "text/plain": [
       "LogisticRegression(max_iter=23, solver='saga', tol=1e-05)"
      ]
     },
     "execution_count": 28,
     "metadata": {},
     "output_type": "execute_result"
    }
   ],
   "source": [
    "modellist['best_estimator'][0]"
   ]
  },
  {
   "cell_type": "code",
   "execution_count": 29,
   "metadata": {},
   "outputs": [],
   "source": [
    "X_train, X_test, y_train, y_test = train_test_split(train_scaled,test)"
   ]
  },
  {
   "cell_type": "code",
   "execution_count": 30,
   "metadata": {},
   "outputs": [
    {
     "name": "stderr",
     "output_type": "stream",
     "text": [
      "c:\\users\\meet\\appdata\\local\\programs\\python\\python38-32\\lib\\site-packages\\sklearn\\linear_model\\_sag.py:329: ConvergenceWarning: The max_iter was reached which means the coef_ did not converge\n",
      "  warnings.warn(\"The max_iter was reached which means \"\n"
     ]
    },
    {
     "data": {
      "text/plain": [
       "0.8678414096916299"
      ]
     },
     "execution_count": 30,
     "metadata": {},
     "output_type": "execute_result"
    }
   ],
   "source": [
    "lr = LogisticRegression(C=1.0, class_weight=None, dual=False, fit_intercept=True,\n",
    "                   intercept_scaling=1, l1_ratio=None, max_iter=133,\n",
    "                   multi_class='auto', n_jobs=None, penalty='l2',\n",
    "                   random_state=None, solver='saga', tol=0.0, verbose=0,\n",
    "                   warm_start=False)\n",
    "lr.fit(X_train,y_train)\n",
    "lr.score(X_train,y_train)"
   ]
  },
  {
   "cell_type": "code",
   "execution_count": 31,
   "metadata": {},
   "outputs": [
    {
     "data": {
      "text/plain": [
       "0.7894736842105263"
      ]
     },
     "execution_count": 31,
     "metadata": {},
     "output_type": "execute_result"
    }
   ],
   "source": [
    "y_pred = lr.predict(X_test)\n",
    "metrics.accuracy_score(y_test,y_pred)"
   ]
  },
  {
   "cell_type": "code",
   "execution_count": 32,
   "metadata": {},
   "outputs": [
    {
     "data": {
      "text/plain": [
       "array([ 63. ,   1. ,   3. , 145. , 233. ,   1. ,   0. , 150. ,   0. ,\n",
       "         2.3,   0. ,   0. ,   1. ])"
      ]
     },
     "execution_count": 32,
     "metadata": {},
     "output_type": "execute_result"
    }
   ],
   "source": [
    "test = np.array(train_temp)\n",
    "test[0]"
   ]
  },
  {
   "cell_type": "code",
   "execution_count": 33,
   "metadata": {},
   "outputs": [],
   "source": [
    "test_inverse = np.array(train)\n"
   ]
  },
  {
   "cell_type": "code",
   "execution_count": 34,
   "metadata": {},
   "outputs": [],
   "source": [
    "post  =[]\n",
    "for i in range(len(test_inverse)):\n",
    "    post.append(lr.predict([test[i]]))"
   ]
  },
  {
   "cell_type": "code",
   "execution_count": 35,
   "metadata": {},
   "outputs": [],
   "source": [
    "pre = []\n",
    "for i in range(len(test)):\n",
    "    pre.append(lr.predict([test[i]]))"
   ]
  },
  {
   "cell_type": "code",
   "execution_count": 36,
   "metadata": {},
   "outputs": [],
   "source": [
    "post = np.array(post)\n",
    "df['transform'] = post"
   ]
  },
  {
   "cell_type": "code",
   "execution_count": 37,
   "metadata": {},
   "outputs": [],
   "source": [
    "pre = np.array(pre)\n",
    "df['predicted'] = pre"
   ]
  },
  {
   "cell_type": "code",
   "execution_count": 38,
   "metadata": {},
   "outputs": [
    {
     "data": {
      "text/html": [
       "<div>\n",
       "<style scoped>\n",
       "    .dataframe tbody tr th:only-of-type {\n",
       "        vertical-align: middle;\n",
       "    }\n",
       "\n",
       "    .dataframe tbody tr th {\n",
       "        vertical-align: top;\n",
       "    }\n",
       "\n",
       "    .dataframe thead th {\n",
       "        text-align: right;\n",
       "    }\n",
       "</style>\n",
       "<table border=\"1\" class=\"dataframe\">\n",
       "  <thead>\n",
       "    <tr style=\"text-align: right;\">\n",
       "      <th></th>\n",
       "      <th>age</th>\n",
       "      <th>sex</th>\n",
       "      <th>cp</th>\n",
       "      <th>trestbps</th>\n",
       "      <th>chol</th>\n",
       "      <th>fbs</th>\n",
       "      <th>restecg</th>\n",
       "      <th>thalach</th>\n",
       "      <th>exang</th>\n",
       "      <th>oldpeak</th>\n",
       "      <th>slope</th>\n",
       "      <th>ca</th>\n",
       "      <th>thal</th>\n",
       "      <th>target</th>\n",
       "      <th>transform</th>\n",
       "      <th>predicted</th>\n",
       "    </tr>\n",
       "  </thead>\n",
       "  <tbody>\n",
       "    <tr>\n",
       "      <th>0</th>\n",
       "      <td>63</td>\n",
       "      <td>1</td>\n",
       "      <td>3</td>\n",
       "      <td>145</td>\n",
       "      <td>233</td>\n",
       "      <td>1</td>\n",
       "      <td>0</td>\n",
       "      <td>150</td>\n",
       "      <td>0</td>\n",
       "      <td>2.3</td>\n",
       "      <td>0</td>\n",
       "      <td>0</td>\n",
       "      <td>1</td>\n",
       "      <td>1</td>\n",
       "      <td>0</td>\n",
       "      <td>0</td>\n",
       "    </tr>\n",
       "    <tr>\n",
       "      <th>1</th>\n",
       "      <td>37</td>\n",
       "      <td>1</td>\n",
       "      <td>2</td>\n",
       "      <td>130</td>\n",
       "      <td>250</td>\n",
       "      <td>0</td>\n",
       "      <td>1</td>\n",
       "      <td>187</td>\n",
       "      <td>0</td>\n",
       "      <td>3.5</td>\n",
       "      <td>0</td>\n",
       "      <td>0</td>\n",
       "      <td>2</td>\n",
       "      <td>1</td>\n",
       "      <td>0</td>\n",
       "      <td>0</td>\n",
       "    </tr>\n",
       "    <tr>\n",
       "      <th>2</th>\n",
       "      <td>41</td>\n",
       "      <td>0</td>\n",
       "      <td>1</td>\n",
       "      <td>130</td>\n",
       "      <td>204</td>\n",
       "      <td>0</td>\n",
       "      <td>0</td>\n",
       "      <td>172</td>\n",
       "      <td>0</td>\n",
       "      <td>1.4</td>\n",
       "      <td>2</td>\n",
       "      <td>0</td>\n",
       "      <td>2</td>\n",
       "      <td>1</td>\n",
       "      <td>0</td>\n",
       "      <td>0</td>\n",
       "    </tr>\n",
       "    <tr>\n",
       "      <th>3</th>\n",
       "      <td>56</td>\n",
       "      <td>1</td>\n",
       "      <td>1</td>\n",
       "      <td>120</td>\n",
       "      <td>236</td>\n",
       "      <td>0</td>\n",
       "      <td>1</td>\n",
       "      <td>178</td>\n",
       "      <td>0</td>\n",
       "      <td>0.8</td>\n",
       "      <td>2</td>\n",
       "      <td>0</td>\n",
       "      <td>2</td>\n",
       "      <td>1</td>\n",
       "      <td>0</td>\n",
       "      <td>0</td>\n",
       "    </tr>\n",
       "    <tr>\n",
       "      <th>4</th>\n",
       "      <td>57</td>\n",
       "      <td>0</td>\n",
       "      <td>0</td>\n",
       "      <td>120</td>\n",
       "      <td>354</td>\n",
       "      <td>0</td>\n",
       "      <td>1</td>\n",
       "      <td>163</td>\n",
       "      <td>1</td>\n",
       "      <td>0.6</td>\n",
       "      <td>2</td>\n",
       "      <td>0</td>\n",
       "      <td>2</td>\n",
       "      <td>1</td>\n",
       "      <td>0</td>\n",
       "      <td>0</td>\n",
       "    </tr>\n",
       "  </tbody>\n",
       "</table>\n",
       "</div>"
      ],
      "text/plain": [
       "   age  sex  cp  trestbps  chol  fbs  restecg  thalach  exang  oldpeak  slope  \\\n",
       "0   63    1   3       145   233    1        0      150      0      2.3      0   \n",
       "1   37    1   2       130   250    0        1      187      0      3.5      0   \n",
       "2   41    0   1       130   204    0        0      172      0      1.4      2   \n",
       "3   56    1   1       120   236    0        1      178      0      0.8      2   \n",
       "4   57    0   0       120   354    0        1      163      1      0.6      2   \n",
       "\n",
       "   ca  thal  target  transform  predicted  \n",
       "0   0     1       1          0          0  \n",
       "1   0     2       1          0          0  \n",
       "2   0     2       1          0          0  \n",
       "3   0     2       1          0          0  \n",
       "4   0     2       1          0          0  "
      ]
     },
     "execution_count": 38,
     "metadata": {},
     "output_type": "execute_result"
    }
   ],
   "source": [
    "df.head()"
   ]
  },
  {
   "cell_type": "code",
   "execution_count": 39,
   "metadata": {},
   "outputs": [
    {
     "data": {
      "text/plain": [
       "1    165\n",
       "0    138\n",
       "Name: target, dtype: int64"
      ]
     },
     "execution_count": 39,
     "metadata": {},
     "output_type": "execute_result"
    }
   ],
   "source": [
    "df['target'].value_counts()"
   ]
  },
  {
   "cell_type": "code",
   "execution_count": 40,
   "metadata": {},
   "outputs": [
    {
     "data": {
      "text/plain": [
       "0    301\n",
       "1      2\n",
       "Name: predicted, dtype: int64"
      ]
     },
     "execution_count": 40,
     "metadata": {},
     "output_type": "execute_result"
    }
   ],
   "source": [
    "df['predicted'].value_counts()"
   ]
  },
  {
   "cell_type": "code",
   "execution_count": 41,
   "metadata": {},
   "outputs": [
    {
     "data": {
      "text/plain": [
       "<matplotlib.axes._subplots.AxesSubplot at 0x1beb5238>"
      ]
     },
     "execution_count": 41,
     "metadata": {},
     "output_type": "execute_result"
    },
    {
     "data": {
      "image/png": "[encoded data removed]",
      "text/plain": [
       "<Figure size 432x288 with 2 Axes>"
      ]
     },
     "metadata": {
      "needs_background": "light"
     },
     "output_type": "display_data"
    }
   ],
   "source": [
    "cn = metrics.confusion_matrix(y_test,y_pred)\n",
    "sn.heatmap(cn,annot=True)"
   ]
  },
  {
   "cell_type": "code",
   "execution_count": null,
   "metadata": {},
   "outputs": [],
   "source": [
    "import plotly.express as px"
   ]
  },
  {
   "cell_type": "code",
   "execution_count": null,
   "metadata": {},
   "outputs": [],
   "source": [
    "px.histogram(data_frame=df,x='target',y='predicted',color='predicted')"
   ]
  },
  {
   "cell_type": "code",
   "execution_count": null,
   "metadata": {},
   "outputs": [],
   "source": [
    "px.scatter(data_frame=df,x='target',y='predicted',color='predicted')"
   ]
  },
  {
   "cell_type": "code",
   "execution_count": 42,
   "metadata": {},
   "outputs": [
    {
     "name": "stdout",
     "output_type": "stream",
     "text": [
      "\n",
      "               precision    recall  f1-score   support\n",
      "\n",
      "           0       0.85      0.65      0.73        34\n",
      "           1       0.76      0.90      0.83        42\n",
      "\n",
      "    accuracy                           0.79        76\n",
      "   macro avg       0.80      0.78      0.78        76\n",
      "weighted avg       0.80      0.79      0.78        76\n",
      "\n"
     ]
    }
   ],
   "source": [
    "score = metrics.classification_report(y_test,y_pred)\n",
    "print(\"\\n\",score)"
   ]
  },
  {
   "cell_type": "code",
   "execution_count": 43,
   "metadata": {},
   "outputs": [],
   "source": [
    "import pickle"
   ]
  },
  {
   "cell_type": "code",
   "execution_count": 44,
   "metadata": {},
   "outputs": [],
   "source": [
    "file = open('heartfinal.pkl','wb')\n",
    "pickle.dump(lr,file)\n",
    "file.close()"
   ]
  },
  {
   "cell_type": "code",
   "execution_count": null,
   "metadata": {},
   "outputs": [],
   "source": []
  }
 ],
 "metadata": {
  "kernelspec": {
   "display_name": "Python 3",
   "language": "python",
   "name": "python3"
  },
  "language_info": {
   "codemirror_mode": {
    "name": "ipython",
    "version": 3
   },
   "file_extension": ".py",
   "mimetype": "text/x-python",
   "name": "python",
   "nbconvert_exporter": "python",
   "pygments_lexer": "ipython3",
   "version": "3.8.2"
  }
 },
 "nbformat": 4,
 "nbformat_minor": 4
}
